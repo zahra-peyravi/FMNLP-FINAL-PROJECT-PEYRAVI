{
  "cells": [
    {
      "cell_type": "code",
      "execution_count": null,
      "metadata": {
        "id": "nQ9wX0kio8LX"
      },
      "outputs": [],
      "source": [
        "import os\n",
        "os.environ[\"OPENAI_API_KEY\"] = \"your openai api key\""
      ]
    },
    {
      "cell_type": "code",
      "execution_count": 1,
      "metadata": {
        "id": "V8n0wjT9fC41"
      },
      "outputs": [],
      "source": [
        "openai_api_key =\"your openai api key\""
      ]
    },
    {
      "cell_type": "code",
      "execution_count": null,
      "metadata": {
        "id": "tMoZY8lHeZgC"
      },
      "outputs": [],
      "source": [
        "!pip install -U langchain\n",
        "!pip install -U openai\n",
        "!pip install -U ragas\n",
        "!pip install chromadb\n",
        "!pip install lark\n",
        "!pip install lark-parser\n",
        "!pip install tiktoken\n",
        "!pip install -U langchain-openai\n",
        "!pip install openai\n",
        "!pip install ragas"
      ]
    },
    {
      "cell_type": "code",
      "execution_count": 100,
      "metadata": {
        "id": "LpurIyAkm8Sh"
      },
      "outputs": [],
      "source": [
        "from langchain.chains.query_constructor.base import (\n",
        "    get_query_constructor_prompt,\n",
        "    load_query_constructor_runnable,\n",
        ")\n",
        "from langchain.prompts import PromptTemplate\n",
        "from langchain.output_parsers import ResponseSchema\n",
        "from langchain.output_parsers import StructuredOutputParser\n",
        "from langchain.prompts import ChatPromptTemplate\n",
        "from tqdm import tqdm\n",
        "import random\n",
        "import pandas as pd\n",
        "from datasets import Dataset\n",
        "from langchain.schema import Document\n",
        "from langchain_community.vectorstores import Chroma\n",
        "from langchain.embeddings.openai import OpenAIEmbeddings\n",
        "from langchain.chains.query_constructor.base import AttributeInfo\n",
        "from langchain.retrievers.self_query.base import SelfQueryRetriever\n",
        "from langchain.chat_models import ChatOpenAI\n",
        "from langchain.chains.query_constructor.base import (\n",
        "    StructuredQueryOutputParser,\n",
        "    get_query_constructor_prompt,\n",
        ")\n",
        "from langchain.retrievers.self_query.chroma import ChromaTranslator\n",
        "from langchain.chains import RetrievalQA\n",
        "from langchain.prompts.chat import ChatPromptTemplate\n",
        "from langchain_openai import OpenAIEmbeddings\n",
        "from langchain_openai import ChatOpenAI\n",
        "from langchain.text_splitter import CharacterTextSplitter\n",
        "from langchain.vectorstores import Chroma\n",
        "from langchain.document_loaders.csv_loader import CSVLoader\n",
        "from langchain.llms import OpenAI\n",
        "import openai"
      ]
    },
    {
      "cell_type": "markdown",
      "metadata": {
        "id": "CljrDSaaEYrf"
      },
      "source": [
        "**use openai embedding**"
      ]
    },
    {
      "cell_type": "code",
      "execution_count": 98,
      "metadata": {
        "id": "vAcJxmqjj84R"
      },
      "outputs": [],
      "source": [
        "embeddings = OpenAIEmbeddings(openai_api_key=openai_api_key)"
      ]
    },
    {
      "cell_type": "markdown",
      "metadata": {
        "id": "XwxwOJ1vEbrd"
      },
      "source": [
        "**define LLM**"
      ]
    },
    {
      "cell_type": "code",
      "execution_count": 99,
      "metadata": {
        "id": "Fi0vzV40lwhA"
      },
      "outputs": [],
      "source": [
        "llm = ChatOpenAI(temperature=0,openai_api_key=openai_api_key)"
      ]
    },
    {
      "cell_type": "markdown",
      "metadata": {
        "id": "mroI79SRE6jF"
      },
      "source": [
        "**Movie data preparation and preprocessing**"
      ]
    },
    {
      "cell_type": "code",
      "execution_count": 71,
      "metadata": {
        "id": "cYvRkGkd7F7I"
      },
      "outputs": [],
      "source": [
        "movie= pd.read_csv('iranian_movies.csv', encoding='utf-8')"
      ]
    },
    {
      "cell_type": "code",
      "execution_count": 72,
      "metadata": {
        "id": "3MI1bgti7bY1"
      },
      "outputs": [],
      "source": [
        "#Remove NA's\n",
        "movie = movie.dropna()"
      ]
    },
    {
      "cell_type": "code",
      "execution_count": 101,
      "metadata": {
        "id": "4IrJb1LS7ifD"
      },
      "outputs": [],
      "source": [
        "#Combine movie's informations\n",
        "movie['combined_info'] = movie.apply(lambda row: f\"نام فیلم: {row['Name']}. موضوع فیلم: {row['About']} ژانر: {row['Genre']} بازیگران: {row['Actors']} امتیاز فیلم: {row['Score']} عوامل فیلم: {row['Crew']} تعداد نفراتی که به این فیلم رای اده اند: {row['Voted']}\", axis=1)"
      ]
    },
    {
      "cell_type": "code",
      "execution_count": 74,
      "metadata": {
        "id": "bSKDvO-T7lIn"
      },
      "outputs": [],
      "source": [
        "#Save processed dataset - combined_info for Langchain\n",
        "movie[['combined_info']].to_csv('movie_updated.csv', index=False)"
      ]
    },
    {
      "cell_type": "code",
      "execution_count": 75,
      "metadata": {
        "colab": {
          "base_uri": "https://localhost:8080/",
          "height": 1085
        },
        "id": "OjY5k57s7nKp",
        "outputId": "6f3fc51c-fd7f-4d6d-8f31-326c53138817"
      },
      "outputs": [
        {
          "data": {
            "text/html": [
              "\n",
              "  <div id=\"df-a7c0cd71-7b48-4219-a2ea-e60abbcf4796\" class=\"colab-df-container\">\n",
              "    <div>\n",
              "<style scoped>\n",
              "    .dataframe tbody tr th:only-of-type {\n",
              "        vertical-align: middle;\n",
              "    }\n",
              "\n",
              "    .dataframe tbody tr th {\n",
              "        vertical-align: top;\n",
              "    }\n",
              "\n",
              "    .dataframe thead th {\n",
              "        text-align: right;\n",
              "    }\n",
              "</style>\n",
              "<table border=\"1\" class=\"dataframe\">\n",
              "  <thead>\n",
              "    <tr style=\"text-align: right;\">\n",
              "      <th></th>\n",
              "      <th>combined_info</th>\n",
              "    </tr>\n",
              "  </thead>\n",
              "  <tbody>\n",
              "    <tr>\n",
              "      <th>0</th>\n",
              "      <td>نام فیلم:  یکی از میان همه. موضوع فیلم: نیلوفر...</td>\n",
              "    </tr>\n",
              "    <tr>\n",
              "      <th>1</th>\n",
              "      <td>نام فیلم:  جاده جنایت. موضوع فیلم: وقتی کتایون...</td>\n",
              "    </tr>\n",
              "    <tr>\n",
              "      <th>2</th>\n",
              "      <td>نام فیلم:  ساوالان. موضوع فیلم: روستای ساوالان...</td>\n",
              "    </tr>\n",
              "    <tr>\n",
              "      <th>3</th>\n",
              "      <td>نام فیلم:  پوزه چرمی. موضوع فیلم: مردی برای رس...</td>\n",
              "    </tr>\n",
              "    <tr>\n",
              "      <th>4</th>\n",
              "      <td>نام فیلم:  شکلاتی. موضوع فیلم: فیلم شکلاتی درب...</td>\n",
              "    </tr>\n",
              "    <tr>\n",
              "      <th>...</th>\n",
              "      <td>...</td>\n",
              "    </tr>\n",
              "    <tr>\n",
              "      <th>920</th>\n",
              "      <td>نام فیلم:  جنگلبان. موضوع فیلم: در اوائل انقلا...</td>\n",
              "    </tr>\n",
              "    <tr>\n",
              "      <th>921</th>\n",
              "      <td>نام فیلم:  بازنشسته ها. موضوع فیلم: قصه مردی ا...</td>\n",
              "    </tr>\n",
              "    <tr>\n",
              "      <th>922</th>\n",
              "      <td>نام فیلم:  جدا افتاده. موضوع فیلم: دختری روستا...</td>\n",
              "    </tr>\n",
              "    <tr>\n",
              "      <th>923</th>\n",
              "      <td>نام فیلم:  پنجمین سوار سرنوشت. موضوع فیلم: محس...</td>\n",
              "    </tr>\n",
              "    <tr>\n",
              "      <th>924</th>\n",
              "      <td>نام فیلم:  بید مجنون. موضوع فیلم: یوسف 45 ساله...</td>\n",
              "    </tr>\n",
              "  </tbody>\n",
              "</table>\n",
              "<p>925 rows × 1 columns</p>\n",
              "</div>\n",
              "    <div class=\"colab-df-buttons\">\n",
              "\n",
              "  <div class=\"colab-df-container\">\n",
              "    <button class=\"colab-df-convert\" onclick=\"convertToInteractive('df-a7c0cd71-7b48-4219-a2ea-e60abbcf4796')\"\n",
              "            title=\"Convert this dataframe to an interactive table.\"\n",
              "            style=\"display:none;\">\n",
              "\n",
              "  <svg xmlns=\"http://www.w3.org/2000/svg\" height=\"24px\" viewBox=\"0 -960 960 960\">\n",
              "    <path d=\"M120-120v-720h720v720H120Zm60-500h600v-160H180v160Zm220 220h160v-160H400v160Zm0 220h160v-160H400v160ZM180-400h160v-160H180v160Zm440 0h160v-160H620v160ZM180-180h160v-160H180v160Zm440 0h160v-160H620v160Z\"/>\n",
              "  </svg>\n",
              "    </button>\n",
              "\n",
              "  <style>\n",
              "    .colab-df-container {\n",
              "      display:flex;\n",
              "      gap: 12px;\n",
              "    }\n",
              "\n",
              "    .colab-df-convert {\n",
              "      background-color: #E8F0FE;\n",
              "      border: none;\n",
              "      border-radius: 50%;\n",
              "      cursor: pointer;\n",
              "      display: none;\n",
              "      fill: #1967D2;\n",
              "      height: 32px;\n",
              "      padding: 0 0 0 0;\n",
              "      width: 32px;\n",
              "    }\n",
              "\n",
              "    .colab-df-convert:hover {\n",
              "      background-color: #E2EBFA;\n",
              "      box-shadow: 0px 1px 2px rgba(60, 64, 67, 0.3), 0px 1px 3px 1px rgba(60, 64, 67, 0.15);\n",
              "      fill: #174EA6;\n",
              "    }\n",
              "\n",
              "    .colab-df-buttons div {\n",
              "      margin-bottom: 4px;\n",
              "    }\n",
              "\n",
              "    [theme=dark] .colab-df-convert {\n",
              "      background-color: #3B4455;\n",
              "      fill: #D2E3FC;\n",
              "    }\n",
              "\n",
              "    [theme=dark] .colab-df-convert:hover {\n",
              "      background-color: #434B5C;\n",
              "      box-shadow: 0px 1px 3px 1px rgba(0, 0, 0, 0.15);\n",
              "      filter: drop-shadow(0px 1px 2px rgba(0, 0, 0, 0.3));\n",
              "      fill: #FFFFFF;\n",
              "    }\n",
              "  </style>\n",
              "\n",
              "    <script>\n",
              "      const buttonEl =\n",
              "        document.querySelector('#df-a7c0cd71-7b48-4219-a2ea-e60abbcf4796 button.colab-df-convert');\n",
              "      buttonEl.style.display =\n",
              "        google.colab.kernel.accessAllowed ? 'block' : 'none';\n",
              "\n",
              "      async function convertToInteractive(key) {\n",
              "        const element = document.querySelector('#df-a7c0cd71-7b48-4219-a2ea-e60abbcf4796');\n",
              "        const dataTable =\n",
              "          await google.colab.kernel.invokeFunction('convertToInteractive',\n",
              "                                                    [key], {});\n",
              "        if (!dataTable) return;\n",
              "\n",
              "        const docLinkHtml = 'Like what you see? Visit the ' +\n",
              "          '<a target=\"_blank\" href=https://colab.research.google.com/notebooks/data_table.ipynb>data table notebook</a>'\n",
              "          + ' to learn more about interactive tables.';\n",
              "        element.innerHTML = '';\n",
              "        dataTable['output_type'] = 'display_data';\n",
              "        await google.colab.output.renderOutput(dataTable, element);\n",
              "        const docLink = document.createElement('div');\n",
              "        docLink.innerHTML = docLinkHtml;\n",
              "        element.appendChild(docLink);\n",
              "      }\n",
              "    </script>\n",
              "  </div>\n",
              "\n",
              "\n",
              "<div id=\"df-a9c3ff73-3c7e-4b1e-a97b-ecd1cc64fbd2\">\n",
              "  <button class=\"colab-df-quickchart\" onclick=\"quickchart('df-a9c3ff73-3c7e-4b1e-a97b-ecd1cc64fbd2')\"\n",
              "            title=\"Suggest charts\"\n",
              "            style=\"display:none;\">\n",
              "\n",
              "<svg xmlns=\"http://www.w3.org/2000/svg\" height=\"24px\"viewBox=\"0 0 24 24\"\n",
              "     width=\"24px\">\n",
              "    <g>\n",
              "        <path d=\"M19 3H5c-1.1 0-2 .9-2 2v14c0 1.1.9 2 2 2h14c1.1 0 2-.9 2-2V5c0-1.1-.9-2-2-2zM9 17H7v-7h2v7zm4 0h-2V7h2v10zm4 0h-2v-4h2v4z\"/>\n",
              "    </g>\n",
              "</svg>\n",
              "  </button>\n",
              "\n",
              "<style>\n",
              "  .colab-df-quickchart {\n",
              "      --bg-color: #E8F0FE;\n",
              "      --fill-color: #1967D2;\n",
              "      --hover-bg-color: #E2EBFA;\n",
              "      --hover-fill-color: #174EA6;\n",
              "      --disabled-fill-color: #AAA;\n",
              "      --disabled-bg-color: #DDD;\n",
              "  }\n",
              "\n",
              "  [theme=dark] .colab-df-quickchart {\n",
              "      --bg-color: #3B4455;\n",
              "      --fill-color: #D2E3FC;\n",
              "      --hover-bg-color: #434B5C;\n",
              "      --hover-fill-color: #FFFFFF;\n",
              "      --disabled-bg-color: #3B4455;\n",
              "      --disabled-fill-color: #666;\n",
              "  }\n",
              "\n",
              "  .colab-df-quickchart {\n",
              "    background-color: var(--bg-color);\n",
              "    border: none;\n",
              "    border-radius: 50%;\n",
              "    cursor: pointer;\n",
              "    display: none;\n",
              "    fill: var(--fill-color);\n",
              "    height: 32px;\n",
              "    padding: 0;\n",
              "    width: 32px;\n",
              "  }\n",
              "\n",
              "  .colab-df-quickchart:hover {\n",
              "    background-color: var(--hover-bg-color);\n",
              "    box-shadow: 0 1px 2px rgba(60, 64, 67, 0.3), 0 1px 3px 1px rgba(60, 64, 67, 0.15);\n",
              "    fill: var(--button-hover-fill-color);\n",
              "  }\n",
              "\n",
              "  .colab-df-quickchart-complete:disabled,\n",
              "  .colab-df-quickchart-complete:disabled:hover {\n",
              "    background-color: var(--disabled-bg-color);\n",
              "    fill: var(--disabled-fill-color);\n",
              "    box-shadow: none;\n",
              "  }\n",
              "\n",
              "  .colab-df-spinner {\n",
              "    border: 2px solid var(--fill-color);\n",
              "    border-color: transparent;\n",
              "    border-bottom-color: var(--fill-color);\n",
              "    animation:\n",
              "      spin 1s steps(1) infinite;\n",
              "  }\n",
              "\n",
              "  @keyframes spin {\n",
              "    0% {\n",
              "      border-color: transparent;\n",
              "      border-bottom-color: var(--fill-color);\n",
              "      border-left-color: var(--fill-color);\n",
              "    }\n",
              "    20% {\n",
              "      border-color: transparent;\n",
              "      border-left-color: var(--fill-color);\n",
              "      border-top-color: var(--fill-color);\n",
              "    }\n",
              "    30% {\n",
              "      border-color: transparent;\n",
              "      border-left-color: var(--fill-color);\n",
              "      border-top-color: var(--fill-color);\n",
              "      border-right-color: var(--fill-color);\n",
              "    }\n",
              "    40% {\n",
              "      border-color: transparent;\n",
              "      border-right-color: var(--fill-color);\n",
              "      border-top-color: var(--fill-color);\n",
              "    }\n",
              "    60% {\n",
              "      border-color: transparent;\n",
              "      border-right-color: var(--fill-color);\n",
              "    }\n",
              "    80% {\n",
              "      border-color: transparent;\n",
              "      border-right-color: var(--fill-color);\n",
              "      border-bottom-color: var(--fill-color);\n",
              "    }\n",
              "    90% {\n",
              "      border-color: transparent;\n",
              "      border-bottom-color: var(--fill-color);\n",
              "    }\n",
              "  }\n",
              "</style>\n",
              "\n",
              "  <script>\n",
              "    async function quickchart(key) {\n",
              "      const quickchartButtonEl =\n",
              "        document.querySelector('#' + key + ' button');\n",
              "      quickchartButtonEl.disabled = true;  // To prevent multiple clicks.\n",
              "      quickchartButtonEl.classList.add('colab-df-spinner');\n",
              "      try {\n",
              "        const charts = await google.colab.kernel.invokeFunction(\n",
              "            'suggestCharts', [key], {});\n",
              "      } catch (error) {\n",
              "        console.error('Error during call to suggestCharts:', error);\n",
              "      }\n",
              "      quickchartButtonEl.classList.remove('colab-df-spinner');\n",
              "      quickchartButtonEl.classList.add('colab-df-quickchart-complete');\n",
              "    }\n",
              "    (() => {\n",
              "      let quickchartButtonEl =\n",
              "        document.querySelector('#df-a9c3ff73-3c7e-4b1e-a97b-ecd1cc64fbd2 button');\n",
              "      quickchartButtonEl.style.display =\n",
              "        google.colab.kernel.accessAllowed ? 'block' : 'none';\n",
              "    })();\n",
              "  </script>\n",
              "</div>\n",
              "    </div>\n",
              "  </div>\n"
            ],
            "text/plain": [
              "                                         combined_info\n",
              "0    نام فیلم:  یکی از میان همه. موضوع فیلم: نیلوفر...\n",
              "1    نام فیلم:  جاده جنایت. موضوع فیلم: وقتی کتایون...\n",
              "2    نام فیلم:  ساوالان. موضوع فیلم: روستای ساوالان...\n",
              "3    نام فیلم:  پوزه چرمی. موضوع فیلم: مردی برای رس...\n",
              "4    نام فیلم:  شکلاتی. موضوع فیلم: فیلم شکلاتی درب...\n",
              "..                                                 ...\n",
              "920  نام فیلم:  جنگلبان. موضوع فیلم: در اوائل انقلا...\n",
              "921  نام فیلم:  بازنشسته ها. موضوع فیلم: قصه مردی ا...\n",
              "922  نام فیلم:  جدا افتاده. موضوع فیلم: دختری روستا...\n",
              "923  نام فیلم:  پنجمین سوار سرنوشت. موضوع فیلم: محس...\n",
              "924  نام فیلم:  بید مجنون. موضوع فیلم: یوسف 45 ساله...\n",
              "\n",
              "[925 rows x 1 columns]"
            ]
          },
          "execution_count": 75,
          "metadata": {},
          "output_type": "execute_result"
        },
        {
          "name": "stdout",
          "output_type": "stream",
          "text": [
            "No charts were generated by quickchart\n"
          ]
        }
      ],
      "source": [
        "pd.read_csv('/content/movie_updated.csv', encoding='utf-8')"
      ]
    },
    {
      "cell_type": "markdown",
      "metadata": {
        "id": "5XUAnyf37FeE"
      },
      "source": [
        "# **Retriever**"
      ]
    },
    {
      "cell_type": "code",
      "execution_count": 102,
      "metadata": {
        "id": "fIUpldcs7sy6"
      },
      "outputs": [],
      "source": [
        "#data loader\n",
        "loader = CSVLoader(file_path=\"iranian_movies.csv\",encoding='utf-8')\n",
        "data = loader.load()\n",
        "\n",
        "#data transformers\n",
        "text_splitter = CharacterTextSplitter(chunk_size=1000, chunk_overlap=200)\n",
        "texts = text_splitter.split_documents(data)\n",
        "\n",
        "#embeddings model, this can be a local LLM as well\n",
        "embeddings = OpenAIEmbeddings(openai_api_key=openai_api_key)\n",
        "llm = OpenAI(openai_api_key=openai_api_key)\n",
        "\n",
        "#Vector Database\n",
        "docsearch = Chroma.from_documents(texts, embeddings)"
      ]
    },
    {
      "cell_type": "markdown",
      "metadata": {
        "id": "Skw_WRN3F5ey"
      },
      "source": [
        "**test retriever**"
      ]
    },
    {
      "cell_type": "code",
      "execution_count": 78,
      "metadata": {
        "colab": {
          "base_uri": "https://localhost:8080/"
        },
        "id": "AsWNg-X-8Maz",
        "outputId": "ed70a308-c25b-41c3-b9a4-8d971ac32193"
      },
      "outputs": [
        {
          "data": {
            "text/plain": [
              "[Document(page_content=\"combined_info: Title:  ساوالان. Overview: روستای ساوالان هرسال توسط گروهی راهزن غارت می شود. اهالی روستا گروهی را برای کمک می طلبند جوانی به نام سلام به این گروه ملحق می شود. ولی گروهی که برای کمک آمده اند باعث اتفاقات دیگری می شوند. Genres: ['اکشن', 'ماجراجویی']\", metadata={'row': 2, 'source': '/content/movie_updated.csv'})]"
            ]
          },
          "execution_count": 78,
          "metadata": {},
          "output_type": "execute_result"
        }
      ],
      "source": [
        "query = \"من دنبال یه هستم که در مورد روستای ساوالان باشه و اکشن باشه. میشه بهم پیشنهاد بدی؟\"\n",
        "docs = docsearch.similarity_search(query, k=1)\n",
        "docs"
      ]
    },
    {
      "cell_type": "code",
      "execution_count": 79,
      "metadata": {
        "colab": {
          "base_uri": "https://localhost:8080/"
        },
        "id": "S1Obf-xW8Rjx",
        "outputId": "74c32bbc-5ada-47ee-ab5e-ada622cdd7ce"
      },
      "outputs": [
        {
          "data": {
            "text/plain": [
              "[Document(page_content=\"Name: بچه تابستان\\nActors: [' مهدی شیخوند', ' آرمان مرادی']\\nScore: 0.66\\nAbout: این نمایش، کاری از گروه تئاتر جیرجیرک به کارگردانی دریا نظری می باشد.در خلاصه داستان این نمایش آمده است : من توی پارکم، توی دستم هیچی نیست؛کی یک چاقو تو دست من گذاشت؟\\nGenre: ['فیلم تئاتر', 'خانوادگی']\\nCrew: [' دریا نظری', ' حسن حامد']\\nImage: https://static.cdn.asset.filimo.com/flmt/mov_17045_1-m.jpg\\nVoted: 149\\nType: فیلم\", metadata={'row': 35, 'source': 'iranian_movies.csv'})]"
            ]
          },
          "execution_count": 79,
          "metadata": {},
          "output_type": "execute_result"
        }
      ],
      "source": [
        "query = \"ژانر فیلم بچه تابستان چیست؟\"\n",
        "docs = docsearch.similarity_search(query, k=1)\n",
        "docs"
      ]
    },
    {
      "cell_type": "code",
      "execution_count": 80,
      "metadata": {
        "colab": {
          "base_uri": "https://localhost:8080/"
        },
        "id": "lcoKw9Y88nMB",
        "outputId": "13f0c99f-6d48-4f90-c679-f22ab8d722f5"
      },
      "outputs": [
        {
          "data": {
            "text/plain": [
              "[Document(page_content=\"Name: دزدان خیابان جردن\\nActors: [' فتحعلی اویسی', ' ارژنگ امیرفضلی', ' رضا شفیعی جم', ' حدیث فولادوند', ' رابعه اسکویی']\\nScore: 0.77\\nAbout: فیلم دزدان خبابان جردن داستان سامی سه سوت و هوشنگ است که قصد سرقت از یک گاو صندوق را در خیابان جردن دارند و ماجراهای عجیب و غریبی برایشان پیش می آید و…\\nGenre: ['کمدی', 'خانوادگی']\\nCrew: [' وحید اسلامی', ' داریوش بابائیان', ' محمد مجیدی']\\nImage: https://static.cdn.asset.filimo.com/flmt/mov_11989_20028-m.jpg\\nVoted: 1948\\nType: فیلم\", metadata={'row': 1106, 'source': 'iranian_movies.csv'})]"
            ]
          },
          "execution_count": 80,
          "metadata": {},
          "output_type": "execute_result"
        }
      ],
      "source": [
        "query = \"ژانر فیلم دزدان خیابان جردن چیست؟\"\n",
        "docs = docsearch.similarity_search(query, k=1)\n",
        "docs"
      ]
    },
    {
      "cell_type": "code",
      "execution_count": 89,
      "metadata": {
        "colab": {
          "base_uri": "https://localhost:8080/"
        },
        "id": "YFcydPw690P5",
        "outputId": "ca6c8f1a-7ea9-4ea2-b201-c4eafaacad21"
      },
      "outputs": [
        {
          "data": {
            "text/plain": [
              "[Document(page_content=\"Name: گاهی واقعی\\nActors: [' تیم رزان', ' میترا لهراسب', ' آهو خردمند', ' حدیث فولادوند', ' منیژه محامدی', ' مهتاج نجومی', ' ثریا حلی']\\nScore: 0.74\\nAbout: فیلم داستان انسانی را روایت می كند كه برای یافتن هویت اصلی اش به كشورش برمی گردد.\\nGenre: ['خانوادگی', 'اجتماعی']\\nCrew: [' رامین لباسچی', ' رامین لباسچی', ' داریوش بابائیان', ' فریبرز لاچینی', ' فرهاد صبا']\\nImage: https://static.cdn.asset.filimo.com/flmt/mov_2517_895-m.jpg\\nVoted: 168\\nType: فیلم\", metadata={'row': 31, 'source': 'iranian_movies.csv'})]"
            ]
          },
          "execution_count": 89,
          "metadata": {},
          "output_type": "execute_result"
        }
      ],
      "source": [
        "query = \"امتیاز فیلم گاهی واقعی چند است؟\"\n",
        "docs = docsearch.similarity_search(query, k=1)\n",
        "docs"
      ]
    },
    {
      "cell_type": "code",
      "execution_count": 90,
      "metadata": {
        "colab": {
          "base_uri": "https://localhost:8080/"
        },
        "id": "WxjPT9tlAzRb",
        "outputId": "1c5e5ba9-b597-4c9f-8b13-101756225466"
      },
      "outputs": [
        {
          "data": {
            "text/plain": [
              "[Document(page_content='فیلم شکلاتی درباره این فیلم درباره کارخانه شکلات سازی است که به پارسای ۱۳ ساله ارث می رسد و پارسا با کمک دوستان خود سعی در اداره آن دارد.', metadata={'Actors': ' شبنم مقدمی و  ناصر هاشمی و  محمدرضا هدایتی و  ارژنگ امیرفضلی و  فرزین محدث و  علیرضا مسعودی', 'Crew': ' سهیل موفق و  کریم خودسیانی و  ایرج محمدی', 'Genre': 'خانوادگی و کمدی', 'Name': ' شکلاتی', 'Score': 0.9, 'Type': 'فیلم', 'Voted': 18330})]"
            ]
          },
          "execution_count": 90,
          "metadata": {},
          "output_type": "execute_result"
        }
      ],
      "source": [
        "query = \"چه کسانی در فیلم شکلاتی بازی کرده اند؟\"\n",
        "docs = docsearch.similarity_search(query, k=1)\n",
        "docs"
      ]
    },
    {
      "cell_type": "code",
      "execution_count": 91,
      "metadata": {
        "colab": {
          "base_uri": "https://localhost:8080/"
        },
        "id": "BoZdmyKyBvX0",
        "outputId": "7fa78c11-afd0-434d-be0b-d2b993ce4b26"
      },
      "outputs": [
        {
          "data": {
            "text/plain": [
              "[Document(page_content=\"Name: ترانه کوچک زندگی\\nActors: [' عنایت بخشی', ' مهدی امینی خواه', ' زهرا اویسی', ' لعیا میر نصیری', ' بهرام عربیان']\\nScore: 0.75\\nAbout: فیلم ترانه کوچک زندگی ، با محوریت مواد مخدر و متلاشی شدن بنیان خانواده در اثر اعتیاد می باشد...\\nGenre: ['خانوادگی', 'اجتماعی']\\nCrew: [' قادر قنبرزاده', ' سید محمد قاضی', ' محمود زینال زاده', ' امیر سلیمانی فاخر', ' افشین آذری']\\nImage: https://static.cdn.asset.filimo.com/flmt/mov_19932_475-m.jpg\\nVoted: 199\\nType: فیلم\", metadata={'row': 39, 'source': 'iranian_movies.csv'})]"
            ]
          },
          "execution_count": 91,
          "metadata": {},
          "output_type": "execute_result"
        }
      ],
      "source": [
        "query = \"موضوع فیلم ترانه کوچک زندگی چیست؟\"\n",
        "docs = docsearch.similarity_search(query, k=1)\n",
        "docs"
      ]
    },
    {
      "cell_type": "code",
      "execution_count": 104,
      "metadata": {
        "colab": {
          "base_uri": "https://localhost:8080/"
        },
        "id": "lJ9G1tCTGX9Y",
        "outputId": "e69feb25-df6c-4c1b-e8f2-741572539839"
      },
      "outputs": [
        {
          "data": {
            "text/plain": [
              "[Document(page_content=\"Name: گاهی واقعی\\nActors: [' تیم رزان', ' میترا لهراسب', ' آهو خردمند', ' حدیث فولادوند', ' منیژه محامدی', ' مهتاج نجومی', ' ثریا حلی']\\nScore: 0.74\\nAbout: فیلم داستان انسانی را روایت می كند كه برای یافتن هویت اصلی اش به كشورش برمی گردد.\\nGenre: ['خانوادگی', 'اجتماعی']\\nCrew: [' رامین لباسچی', ' رامین لباسچی', ' داریوش بابائیان', ' فریبرز لاچینی', ' فرهاد صبا']\\nImage: https://static.cdn.asset.filimo.com/flmt/mov_2517_895-m.jpg\\nVoted: 168\\nType: فیلم\", metadata={'row': 31, 'source': 'iranian_movies.csv'})]"
            ]
          },
          "execution_count": 104,
          "metadata": {},
          "output_type": "execute_result"
        }
      ],
      "source": [
        "query = \"تعداد نفراتی که به فیلم گاهی واقعی رای داده اند؟\"\n",
        "docs = docsearch.similarity_search(query, k=1)\n",
        "docs"
      ]
    },
    {
      "cell_type": "code",
      "execution_count": 105,
      "metadata": {
        "colab": {
          "base_uri": "https://localhost:8080/"
        },
        "id": "QYdaWo9tGZaS",
        "outputId": "72148680-1b24-49d1-a8c0-f01e11ff24a2"
      },
      "outputs": [
        {
          "data": {
            "text/plain": [
              "[Document(page_content=\"Name: تمرین برای اجرا\\nActors: [' میکائیل شهرستانی', ' مهدی میامی', ' محمدعلی سجادی', ' محمود راسخ فر', ' محمد ساربان', ' حسین فلاح']\\nScore: 0.59\\nAbout: یک کارگردان تئاتر تصمیم می گیرد تا با جمع کردن گروهی بتواند داستان سیاوش را از روی شاهنامه فردوسی بخوانند و برای اجرا تمرین کنند…\\nGenre: ['تاریخی | مذهبی']\\nCrew: [' محمدرضا سکوت', ' محمدعلی سجادی', ' محمدعلی سجادی', ' محمدعلی سجادی']\\nImage: https://static.cdn.asset.filimo.com/flmt/mov_26069_1-m.jpg\\nVoted: 111\\nType: فیلم\", metadata={'row': 15, 'source': 'iranian_movies.csv'})]"
            ]
          },
          "execution_count": 105,
          "metadata": {},
          "output_type": "execute_result"
        }
      ],
      "source": [
        "query = \"موضوع فیلم تمرین برای اجرا چیه؟\"\n",
        "docs = docsearch.similarity_search(query, k=1)\n",
        "docs"
      ]
    },
    {
      "cell_type": "code",
      "execution_count": 107,
      "metadata": {
        "colab": {
          "base_uri": "https://localhost:8080/"
        },
        "id": "BgyanK_6GZ6S",
        "outputId": "5e847f7e-9889-4541-f7c5-1163dfebd739"
      },
      "outputs": [
        {
          "data": {
            "text/plain": [
              "[Document(page_content=\"Name: فریاد در شب\\nActors: [' ایرج نوذری', ' حدیث فولادوند', ' نازنین کریمی', ' محمود مقامی', ' زهره حمیدی']\\nScore: 0.69\\nAbout: دختری به نام هما که در فراز و نشیب زندگی اثیر حوادثی می شود که زندگی او را از سیر طبیعی خود خارج کرده و او را دچار کابوس می کند. همزمان او در گیر و دار قتل هایی قرار می گیرد که پلیس به دنبال پیداکردن سرنخی برای سرمنشأ این قتل هاست.\\nGenre: ['خانوادگی', 'اجتماعی']\\nCrew: [' کریم رجبی', ' هایده رزم آور', ' مسعود عسگری']\\nImage: https://static.cdn.asset.filimo.com/flmt/mov_11376_14525-m.jpg\\nVoted: 224\\nType: فیلم\", metadata={'row': 8, 'source': 'iranian_movies.csv'})]"
            ]
          },
          "execution_count": 107,
          "metadata": {},
          "output_type": "execute_result"
        }
      ],
      "source": [
        "query = \"آیا نازنین کریمی در فیلم فریاد در شب بازی کرده؟\"\n",
        "docs = docsearch.similarity_search(query, k=1)\n",
        "docs"
      ]
    },
    {
      "cell_type": "code",
      "execution_count": 108,
      "metadata": {
        "colab": {
          "base_uri": "https://localhost:8080/"
        },
        "id": "30m8kc0vGaeR",
        "outputId": "697cb367-7287-4689-c7ed-151255c5cee0"
      },
      "outputs": [
        {
          "data": {
            "text/plain": [
              "[Document(page_content=\"combined_info: Title:  شب زده. Overview: توجه راننده کامیونی در راه مانده بر اثر داد و فریاد یک نفر به زیر یک پل جلب می شود. جایی که یک نفر مردی زانو زده را می کشد .یک سال بعد … Genres: ['اکشن', 'پلیسی معمایی']\", metadata={'row': 64, 'source': '/content/movie_updated.csv'})]"
            ]
          },
          "execution_count": 108,
          "metadata": {},
          "output_type": "execute_result"
        }
      ],
      "source": [
        "query = \"یه فیلم که ژانر اکشن داشته باشه\"\n",
        "docs = docsearch.similarity_search(query, k=1)\n",
        "docs"
      ]
    },
    {
      "cell_type": "code",
      "execution_count": 116,
      "metadata": {
        "colab": {
          "base_uri": "https://localhost:8080/"
        },
        "id": "Vi9OvHBGI1n2",
        "outputId": "09d77698-35b5-43cf-8dc9-69e6b5583304"
      },
      "outputs": [
        {
          "data": {
            "text/plain": [
              "[Document(page_content=\"combined_info: Title:  اسرافیل. Overview: فیلم اسرافیل ، درباره چالش ها و نیازهای عاطفی و روابط انسانی است و در خلاصه داستان این فیلم آمده است؛مردی که ماهی را دوست داشت بازگشته است. دختری که بهروز را دوست دارد باز می گردد...مردگان زنده می شوند. Genres: ['خانوادگی', 'اجتماعی']\", metadata={'row': 853, 'source': '/content/movie_updated.csv'})]"
            ]
          },
          "execution_count": 116,
          "metadata": {},
          "output_type": "execute_result"
        }
      ],
      "source": [
        "query = \"موضوع فیلم اسرافیل چیه؟\"\n",
        "docs = docsearch.similarity_search(query, k=1)\n",
        "docs"
      ]
    },
    {
      "cell_type": "markdown",
      "metadata": {
        "id": "cc64jqqBrr20"
      },
      "source": [
        "# **QA Chain**"
      ]
    },
    {
      "cell_type": "code",
      "execution_count": 95,
      "metadata": {
        "id": "QrMrz4R8CzAw"
      },
      "outputs": [],
      "source": [
        "template = \"\"\"You are an assistant for Movie question-answering tasks.\n",
        "Use the following pieces of retrieved context to answer the question.\n",
        "If you don't know the answer, just say that you don't know.\n",
        "Use two sentences maximum and keep the answer concise. you have to translate your answer in Persian\n",
        "\n",
        "{context}\n",
        "\n",
        "Question: {question}\n",
        "Your response:\"\"\"\n",
        "\n",
        "PROMPT = PromptTemplate(\n",
        "    template=template, input_variables=[\"context\", \"question\"])\n",
        "\n",
        "chain_type_kwargs = {\"prompt\": PROMPT}\n",
        "\n",
        "llm=ChatOpenAI(model_name='gpt-3.5-turbo', temperature=0, openai_api_key=openai_api_key)\n",
        "\n",
        "retrieval_augmented_qa_chain = RetrievalQA.from_chain_type(llm=llm,\n",
        "    chain_type=\"stuff\",\n",
        "    retriever=docsearch.as_retriever(),\n",
        "    return_source_documents=True,\n",
        "    chain_type_kwargs=chain_type_kwargs)"
      ]
    },
    {
      "cell_type": "markdown",
      "metadata": {
        "id": "ABqUDC34nJNH"
      },
      "source": [
        "**Test retrieval augmented QA chain**"
      ]
    },
    {
      "cell_type": "code",
      "execution_count": 97,
      "metadata": {
        "colab": {
          "base_uri": "https://localhost:8080/",
          "height": 35
        },
        "id": "7AytgS6uDU95",
        "outputId": "d2981b49-44be-419e-c0be-799b9a4283fd"
      },
      "outputs": [
        {
          "data": {
            "application/vnd.google.colaboratory.intrinsic+json": {
              "type": "string"
            },
            "text/plain": [
              "'موضوع فیلم ترانه کوچک زندگی متمرکز بر مواد مخدر و متلاشی شدن بنیان خانواده در اثر اعتیاد است.'"
            ]
          },
          "execution_count": 97,
          "metadata": {},
          "output_type": "execute_result"
        }
      ],
      "source": [
        "result = retrieval_augmented_qa_chain.invoke(query)\n",
        "result['result']"
      ]
    },
    {
      "cell_type": "markdown",
      "metadata": {
        "id": "A8tw08CBhLaQ"
      },
      "source": [
        "# **Create testset for evaluation**"
      ]
    },
    {
      "cell_type": "code",
      "execution_count": 187,
      "metadata": {
        "id": "RgfsK2Wdfijy"
      },
      "outputs": [],
      "source": [
        "test_sentences = [\n",
        "    Document(\n",
        "        page_content=\"فیلم ساوالان بازیگران آن مجید مظفری و  محمد برسوزیان و  فردوس کاویانی و  خسرو دستگیر هستند و ژانر این فیلم اکشن و ماجراجویی است و امتیاز این فیلم 0.9 است. 493 نفر به این فیلم رای داده اند. موضوع این فیلم روستای ساوالان هرسال توسط گروهی راهزن غارت می شود. اهالی روستا گروهی را برای کمک می طلبند جوانی به نام سلام به این گروه ملحق می شود. ولی گروهی که برای کمک آمده اند باعث اتفاقات دیگری می شوند. است. از عوامل این فیلم میتوان به یدالله صمدی و  سیفعلی سیدکوثری نژاد و  یدالله صمدی و  فرهاد فخرالدینی و  حسن قلی زاده اشاره کرد.\"\n",
        "    ),\n",
        "    Document(\n",
        "        page_content=\"فیلم بچه تابستان بازیگران آن مهدی شیخوند و  آرمان مرادی هستند و ژانر این فیلم فیلم تئاتر و خانوادگی است و امتیاز این فیلم 0.66 است. 149 نفر به این فیلم رای داده اند. موضوع این فیلم این نمایش، کاری از گروه تئاتر جیرجیرک به کارگردانی دریا نظری می باشد.در خلاصه داستان این نمایش آمده است : من توی پارکم، توی دستم هیچی نیست؛کی یک چاقو تو دست من گذاشت؟ است. از عوامل این فیلم میتوان به دریا نظری و  حسن حامد اشاره کرد.\"\n",
        "    ),\n",
        "    Document(\n",
        "        page_content=\"فیلم دزدان خیابان جردن بازیگران آن فتحعلی اویسی و  ارژنگ امیرفضلی و  رضا شفیعی جم و  حدیث فولادوند و  رابعه اسکویی هستند و ژانر این فیلم کمدی و خانوادگی است و امتیاز این فیلم 0.77 است. 1948 نفر به این فیلم رای داده اند. موضوع این فیلم فیلم دزدان خبابان جردن داستان سامی سه سوت و هوشنگ است که قصد سرقت از یک گاو صندوق را در خیابان جردن دارند و ماجراهای عجیب و غریبی برایشان پیش می آید و… است. از عوامل این فیلم میتوان به وحید اسلامی و  داریوش بابائیان و  محمد مجیدی اشاره کرد.\"\n",
        "    ),\n",
        "    Document(\n",
        "        page_content=\"فیلم گاهی واقعی بازیگران آن تیم رزان و  میترا لهراسب و  آهو خردمند و  حدیث فولادوند و  منیژه محامدی و  مهتاج نجومی و  ثریا حلی هستند و ژانر این فیلم خانوادگی و اجتماعی است و امتیاز این فیلم 0.74 است. 168 نفر به این فیلم رای داده اند. موضوع این فیلم فیلم داستان انسانی را روایت می كند كه برای یافتن هویت اصلی اش به كشورش برمی گردد. است. از عوامل این فیلم میتوان به رامین لباسچی و  رامین لباسچی و  داریوش بابائیان و  فریبرز لاچینی و  فرهاد صبا اشاره کرد.\"\n",
        "    ),\n",
        "    Document(\n",
        "        page_content=\"فیلم تمرین برای اجرا بازیگران آن میکائیل شهرستانی و  مهدی میامی و  محمدعلی سجادی و  محمود راسخ فر و  محمد ساربان و  حسین فلاح هستند و ژانر این فیلم تاریخی | مذهبی است و امتیاز این فیلم 0.59 است. 111 نفر به این فیلم رای داده اند. موضوع این فیلم یک کارگردان تئاتر تصمیم می گیرد تا با جمع کردن گروهی بتواند داستان سیاوش را از روی شاهنامه فردوسی بخوانند و برای اجرا تمرین کنند… است. از عوامل این فیلم میتوان به محمدرضا سکوت و  محمدعلی سجادی و  محمدعلی سجادی و  محمدعلی سجادی اشاره کرد.\"\n",
        "    ),\n",
        "    Document(\n",
        "        page_content=\"فیلم فریاد در شب بازیگران آن ایرج نوذری و  حدیث فولادوند و  نازنین کریمی و  محمود مقامی و  زهره حمیدی هستند و ژانر این فیلم خانوادگی و اجتماعی است و امتیاز این فیلم 0.69 است. 224 نفر به این فیلم رای داده اند. موضوع این فیلم دختری به نام هما که در فراز و نشیب زندگی اثیر حوادثی می شود که زندگی او را از سیر طبیعی خود خارج کرده و او را دچار کابوس می کند. همزمان او در گیر و دار قتل هایی قرار می گیرد که پلیس به دنبال پیداکردن سرنخی برای سرمنشأ این قتل هاست. است. از عوامل این فیلم میتوان به کریم رجبی و  هایده رزم آور و  مسعود عسگری اشاره کرد.\"\n",
        "    ),\n",
        "    Document(\n",
        "        page_content=\"فیلم شب زده بازیگران آن بابک حمیدیان و  طناز طباطبایی و  رحیم نوروزی و  آرش تاج تهرانی و  کیانوش گرامی و  بهرام ابراهیمی و  سیروس میمنت و  فرهاد بشارتی و  افسانه ناصری هستند و ژانر این فیلم اکشن و پلیسی معمایی است و امتیاز این فیلم 0.73 است. 443 نفر به این فیلم رای داده اند. موضوع این فیلم توجه راننده کامیونی در راه مانده بر اثر داد و فریاد یک نفر به زیر یک پل جلب می شود. جایی که یک نفر مردی زانو زده را می کشد .یک سال بعد … است. از عوامل این فیلم میتوان به فرزاد موتمن و  سعید شاهسواری و  مهدی آزادی و  مسعود صباح و  کیوان جهانشاهی اشاره کرد.\"\n",
        "    ),\n",
        "    Document(\n",
        "        page_content=\"فیلم ترانه کوچک زندگی بازیگران آن عنایت بخشی و  مهدی امینی خواه و  زهرا اویسی و  لعیا میر نصیری و  بهرام عربیان هستند و ژانر این فیلم خانوادگی و اجتماعی است و امتیاز این فیلم 0.75 است. 199 نفر به این فیلم رای داده اند. موضوع این فیلم فیلم ترانه کوچک زندگی ، با محوریت مواد مخدر و متلاشی شدن بنیان خانواده در اثر اعتیاد می باشد... است. از عوامل این فیلم میتوان به قادر قنبرزاده و  سید محمد قاضی و  محمود زینال زاده و  امیر سلیمانی فاخر و  افشین آذری اشاره کرد.\"\n",
        "    ),\n",
        "    Document(\n",
        "        page_content=\"فیلم اسرافیل بازیگران آن هدیه تهرانی و  پژمان بازغی و  هدی زین العابدین و  مریلا زارعی و  علی عمرانی و  پوریا رحیمی سام و  سهیلا رضوی هستند و ژانر این فیلم خانوادگی و اجتماعی است و امتیاز این فیلم 0.86 است. 10497 نفر به این فیلم رای داده اند. موضوع این فیلم فیلم اسرافیل ، درباره چالش ها و نیازهای عاطفی و روابط انسانی است و در خلاصه داستان این فیلم آمده است؛مردی که ماهی را دوست داشت بازگشته است. دختری که بهروز را دوست دارد باز می گردد...مردگان زنده می شوند. است. از عوامل این فیلم میتوان به آیدا پناهنده و  مستانه مهاجر و  مرتضی قیدی و  ارسلان امیری و  آیدا پناهنده و  مجید پوستی اشاره کرد.\"\n",
        "    ),\n",
        "    Document(\n",
        "        page_content=\"فیلم شکلاتی بازیگران آن شبنم مقدمی و  ناصر هاشمی و  محمدرضا هدایتی و  ارژنگ امیرفضلی و  فرزین محدث و  علیرضا مسعودی هستند و ژانر این فیلم خانوادگی و کمدی است و امتیاز این فیلم 0.9 است. 18330 نفر به این فیلم رای داده اند. موضوع این فیلم فیلم شکلاتی درباره این فیلم درباره کارخانه شکلات سازی است که به پارسای ۱۳ ساله ارث می رسد و پارسا با کمک دوستان خود سعی در اداره آن دارد. است. از عوامل این فیلم میتوان به سهیل موفق و  کریم خودسیانی و  ایرج محمدی اشاره کرد.\"\n",
        "    )\n",
        "]"
      ]
    },
    {
      "cell_type": "markdown",
      "metadata": {
        "id": "g2dP2KoYhCaB"
      },
      "source": [
        "# **Generating test questions using GPT**"
      ]
    },
    {
      "cell_type": "code",
      "execution_count": 188,
      "metadata": {
        "id": "6zsrTOVVeRBX"
      },
      "outputs": [],
      "source": [
        "question_schema = ResponseSchema(\n",
        "    name=\"question\",\n",
        "    description=\"a question about the context.\"\n",
        ")\n",
        "\n",
        "question_response_schemas = [\n",
        "    question_schema,\n",
        "]"
      ]
    },
    {
      "cell_type": "code",
      "execution_count": 189,
      "metadata": {
        "id": "wQqsADSRe2Rr"
      },
      "outputs": [],
      "source": [
        "question_output_parser = StructuredOutputParser.from_response_schemas(question_response_schemas)\n",
        "\n",
        "format_instructions = question_output_parser.get_format_instructions()"
      ]
    },
    {
      "cell_type": "code",
      "execution_count": 190,
      "metadata": {
        "id": "vZDtU37fe98q"
      },
      "outputs": [],
      "source": [
        "question_generation_llm = ChatOpenAI(model=\"gpt-3.5-turbo-1106\", openai_api_key=openai_api_key)\n",
        "\n",
        "bare_prompt_template = \"{content}\"\n",
        "\n",
        "bare_template = ChatPromptTemplate.from_template(template=bare_prompt_template)"
      ]
    },
    {
      "cell_type": "code",
      "execution_count": 191,
      "metadata": {
        "id": "5jURCRGhfJrK"
      },
      "outputs": [],
      "source": [
        "qa_template = \"\"\"\\\n",
        "You are interested in the field of movies and series. For each context, create a simple question about the movie, for example, about the topic of the movie - the genre of the movie - who starred in that movie - how many people have voted - what is the score of that movieand translate it to persian language that is specific to the context. Avoid creating generic or general questions.\n",
        "\n",
        "question: a question about the context.\n",
        "\n",
        "Format the output as JSON with the following keys:\n",
        "question\n",
        "\n",
        "context: {context}\n",
        "\"\"\"\n",
        "\n",
        "prompt_template = ChatPromptTemplate.from_template(template=qa_template)\n",
        "\n",
        "messages = prompt_template.format_messages(\n",
        "    context=test_sentences[0],\n",
        "    format_instructions=format_instructions\n",
        ")\n",
        "\n",
        "question_generation_chain = bare_template | question_generation_llm\n",
        "\n",
        "response = question_generation_chain.invoke({\"content\" : messages})\n",
        "\n",
        "output_dict = question_output_parser.parse(response.content)"
      ]
    },
    {
      "cell_type": "markdown",
      "metadata": {
        "id": "f3X44UhZg8tu"
      },
      "source": [
        "# **Generating context**"
      ]
    },
    {
      "cell_type": "code",
      "execution_count": 156,
      "metadata": {
        "colab": {
          "base_uri": "https://localhost:8080/"
        },
        "id": "1DqCaiURf2b7",
        "outputId": "f44551ab-3e00-4d27-fe0c-7f484160b92d"
      },
      "outputs": [
        {
          "name": "stderr",
          "output_type": "stream",
          "text": [
            "100%|██████████| 10/10 [01:17<00:00,  7.77s/it]\n"
          ]
        }
      ],
      "source": [
        "random.seed(42)\n",
        "\n",
        "qac_triples = []\n",
        "\n",
        "# randomly select\n",
        "for text in tqdm(random.sample(test_sentences, 10)):\n",
        "  messages = prompt_template.format_messages(\n",
        "      context=text,\n",
        "      format_instructions=format_instructions\n",
        "  )\n",
        "  response = question_generation_chain.invoke({\"content\" : messages})\n",
        "  try:\n",
        "    output_dict = question_output_parser.parse(response.content)\n",
        "  except Exception as e:\n",
        "    continue\n",
        "  output_dict[\"context\"] = text\n",
        "  qac_triples.append(output_dict)"
      ]
    },
    {
      "cell_type": "code",
      "execution_count": 157,
      "metadata": {
        "colab": {
          "base_uri": "https://localhost:8080/"
        },
        "id": "f5wbJouYglUX",
        "outputId": "c0524940-a3e8-46ac-f11c-91003ade9fc3"
      },
      "outputs": [
        {
          "data": {
            "text/plain": [
              "{'question': 'فیلم تمرین برای اجرا بازیگران آن چه کسانی هستند؟',\n",
              " 'context': Document(page_content='فیلم تمرین برای اجرا بازیگران آن میکائیل شهرستانی و  مهدی میامی و  محمدعلی سجادی و  محمود راسخ فر و  محمد ساربان و  حسین فلاح هستند و ژانر این فیلم تاریخی | مذهبی است و امتیاز این فیلم 0.59 است. 111 نفر به این فیلم رای داده اند. موضوع این فیلم یک کارگردان تئاتر تصمیم می گیرد تا با جمع کردن گروهی بتواند داستان سیاوش را از روی شاهنامه فردوسی بخوانند و برای اجرا تمرین کنند… است. از عوامل این فیلم میتوان به محمدرضا سکوت و  محمدعلی سجادی و  محمدعلی سجادی و  محمدعلی سجادی اشاره کرد.')}"
            ]
          },
          "execution_count": 157,
          "metadata": {},
          "output_type": "execute_result"
        }
      ],
      "source": [
        "qac_triples[2]"
      ]
    },
    {
      "cell_type": "markdown",
      "metadata": {
        "id": "UpX-zqXahFhy"
      },
      "source": [
        "# **Generate “ground truth” answers using GPT-4**"
      ]
    },
    {
      "cell_type": "code",
      "execution_count": 158,
      "metadata": {
        "id": "iXof2H05gyGz"
      },
      "outputs": [],
      "source": [
        "answer_generation_llm = ChatOpenAI(model=\"gpt-4-1106-preview\", temperature=0,openai_api_key=openai_api_key)\n",
        "\n",
        "answer_schema = ResponseSchema(\n",
        "    name=\"answer\",\n",
        "    description=\"an answer to the question\"\n",
        ")\n",
        "\n",
        "answer_response_schemas = [\n",
        "    answer_schema,\n",
        "]\n",
        "\n",
        "answer_output_parser = StructuredOutputParser.from_response_schemas(answer_response_schemas)\n",
        "\n",
        "format_instructions = answer_output_parser.get_format_instructions()\n",
        "\n",
        "qa_template = \"\"\"\\\n",
        "You are a University Professor creating a test for advanced students. For each question and context, create an answer.\n",
        "\n",
        "answer: a answer about the context.\n",
        "\n",
        "Format the output as JSON with the following keys:\n",
        "answer\n",
        "\n",
        "question: {question}\n",
        "context: {context}\n",
        "\"\"\"\n",
        "\n",
        "prompt_template = ChatPromptTemplate.from_template(template=qa_template)\n",
        "\n",
        "messages = prompt_template.format_messages(\n",
        "    context=qac_triples[0][\"context\"],\n",
        "    question=qac_triples[0][\"question\"],\n",
        "    format_instructions=format_instructions\n",
        ")\n",
        "\n",
        "answer_generation_chain = bare_template | answer_generation_llm\n",
        "\n",
        "response = answer_generation_chain.invoke({\"content\" : messages})\n",
        "\n",
        "output_dict = answer_output_parser.parse(response.content)"
      ]
    },
    {
      "cell_type": "code",
      "execution_count": 161,
      "metadata": {
        "colab": {
          "base_uri": "https://localhost:8080/"
        },
        "id": "PTH8D4NghnTR",
        "outputId": "89d03cca-8812-4f15-c5d3-ac18fc8943f7"
      },
      "outputs": [
        {
          "name": "stderr",
          "output_type": "stream",
          "text": [
            "100%|██████████| 10/10 [01:59<00:00, 11.97s/it]\n"
          ]
        }
      ],
      "source": [
        "for triple in tqdm(qac_triples):\n",
        "  messages = prompt_template.format_messages(\n",
        "      context=triple[\"context\"],\n",
        "      question=triple[\"question\"],\n",
        "      format_instructions=format_instructions\n",
        "  )\n",
        "  response = answer_generation_chain.invoke({\"content\" : messages})\n",
        "  try:\n",
        "    output_dict = answer_output_parser.parse(response.content)\n",
        "  except Exception as e:\n",
        "    continue\n",
        "  triple[\"answer\"] = output_dict[\"answer\"]"
      ]
    },
    {
      "cell_type": "markdown",
      "metadata": {
        "id": "YgDAL7R1h6LA"
      },
      "source": [
        "# **Combine questions, contexts, and answers**"
      ]
    },
    {
      "cell_type": "code",
      "execution_count": 162,
      "metadata": {
        "id": "jyeN3y_8hwat"
      },
      "outputs": [],
      "source": [
        "ground_truth_qac_set = pd.DataFrame(qac_triples)\n",
        "\n",
        "ground_truth_qac_set[\"context\"] = ground_truth_qac_set[\"context\"].map(lambda x: str(x.page_content))\n",
        "\n",
        "ground_truth_qac_set = ground_truth_qac_set.rename(columns={\"answer\" : \"ground_truth\"})\n",
        "\n",
        "eval_dataset = Dataset.from_pandas(ground_truth_qac_set)"
      ]
    },
    {
      "cell_type": "code",
      "execution_count": 163,
      "metadata": {
        "colab": {
          "base_uri": "https://localhost:8080/"
        },
        "id": "_u1O2DuAh9hZ",
        "outputId": "f3de3da0-d11c-44fa-d41a-84694e285c56"
      },
      "outputs": [
        {
          "data": {
            "text/plain": [
              "Dataset({\n",
              "    features: ['question', 'context', 'ground_truth'],\n",
              "    num_rows: 10\n",
              "})"
            ]
          },
          "execution_count": 163,
          "metadata": {},
          "output_type": "execute_result"
        }
      ],
      "source": [
        "eval_dataset"
      ]
    },
    {
      "cell_type": "code",
      "execution_count": 165,
      "metadata": {
        "colab": {
          "base_uri": "https://localhost:8080/"
        },
        "id": "WxRsU2SZNYqG",
        "outputId": "e9b2d50c-92b9-4d0b-eef6-b9ff7e21e14d"
      },
      "outputs": [
        {
          "data": {
            "text/plain": [
              "{'question': 'فیلم ساوالان چه ژانری است؟',\n",
              " 'context': 'فیلم ساوالان بازیگران آن مجید مظفری و  محمد برسوزیان و  فردوس کاویانی و  خسرو دستگیر هستند و ژانر این فیلم اکشن و ماجراجویی است و امتیاز این فیلم 0.9 است. 493 نفر به این فیلم رای داده اند. موضوع این فیلم روستای ساوالان هرسال توسط گروهی راهزن غارت می شود. اهالی روستا گروهی را برای کمک می طلبند جوانی به نام سلام به این گروه ملحق می شود. ولی گروهی که برای کمک آمده اند باعث اتفاقات دیگری می شوند. است. از عوامل این فیلم میتوان به یدالله صمدی و  سیفعلی سیدکوثری نژاد و  یدالله صمدی و  فرهاد فخرالدینی و  حسن قلی زاده اشاره کرد.',\n",
              " 'ground_truth': 'ژانر فیلم ساوالان اکشن و ماجراجویی است.'}"
            ]
          },
          "execution_count": 165,
          "metadata": {},
          "output_type": "execute_result"
        }
      ],
      "source": [
        "eval_dataset[1]"
      ]
    },
    {
      "cell_type": "code",
      "execution_count": 166,
      "metadata": {
        "colab": {
          "base_uri": "https://localhost:8080/"
        },
        "id": "9BFNSpLN9pRT",
        "outputId": "ce2a4872-a8bd-4727-854b-dbee17f40673"
      },
      "outputs": [
        {
          "data": {
            "text/plain": [
              "{'question': 'فیلم تمرین برای اجرا بازیگران آن چه کسانی هستند؟',\n",
              " 'context': 'فیلم تمرین برای اجرا بازیگران آن میکائیل شهرستانی و  مهدی میامی و  محمدعلی سجادی و  محمود راسخ فر و  محمد ساربان و  حسین فلاح هستند و ژانر این فیلم تاریخی | مذهبی است و امتیاز این فیلم 0.59 است. 111 نفر به این فیلم رای داده اند. موضوع این فیلم یک کارگردان تئاتر تصمیم می گیرد تا با جمع کردن گروهی بتواند داستان سیاوش را از روی شاهنامه فردوسی بخوانند و برای اجرا تمرین کنند… است. از عوامل این فیلم میتوان به محمدرضا سکوت و  محمدعلی سجادی و  محمدعلی سجادی و  محمدعلی سجادی اشاره کرد.',\n",
              " 'ground_truth': 'بازیگران فیلم تمرین برای اجرا عبارتند از: میکائیل شهرستانی، مهدی میامی، محمدعلی سجادی، محمود راسخ فر، محمد ساربان، و حسین فلاح.'}"
            ]
          },
          "execution_count": 166,
          "metadata": {},
          "output_type": "execute_result"
        }
      ],
      "source": [
        "eval_dataset[2]"
      ]
    },
    {
      "cell_type": "markdown",
      "metadata": {
        "id": "JgTNXrKRogoO"
      },
      "source": [
        "# **create our dataset for RAGAS**"
      ]
    },
    {
      "cell_type": "code",
      "execution_count": 167,
      "metadata": {
        "id": "i6hMMts6OQup"
      },
      "outputs": [],
      "source": [
        "# create our dataset for RAGAS\n",
        "questions = []\n",
        "answers = []\n",
        "\n",
        "# Iterate through each row in the dataset\n",
        "for row in eval_dataset:\n",
        "    questions.append(row['question'])\n",
        "\n",
        "# Iterate through each question and get answers\n",
        "for question in eval_dataset[\"question\"]:\n",
        "    result = retrieval_augmented_qa_chain.invoke(question)\n",
        "    answer = result['result']\n",
        "    answers.append(answer)"
      ]
    },
    {
      "cell_type": "code",
      "execution_count": 168,
      "metadata": {
        "colab": {
          "base_uri": "https://localhost:8080/"
        },
        "id": "pNsqwurtupPC",
        "outputId": "bf78505a-aeef-4ecc-e132-93d7a0218824"
      },
      "outputs": [
        {
          "name": "stdout",
          "output_type": "stream",
          "text": [
            "[['149 نفر به این فیلم رای داده اند.'], ['ژانر فیلم ساوالان اکشن و ماجراجویی است.'], ['بازیگران فیلم تمرین برای اجرا عبارتند از: میکائیل شهرستانی، مهدی میامی، محمدعلی سجادی، محمود راسخ فر، محمد ساربان، و حسین فلاح.'], ['ژانر فیلم شکلاتی خانوادگی و کمدی است.'], ['امتیاز فیلم شب زده 0.73 است.'], ['ژانر فیلم فریاد در شب خانوادگی و اجتماعی است.'], ['10497 نفر به فیلم اسرافیل رای داده اند.'], ['کمدی و خانوادگی'], ['ژانر فیلم گاهی واقعی خانوادگی و اجتماعی است.'], ['199 نفر به این فیلم رای داده اند.']]\n"
          ]
        }
      ],
      "source": [
        "# ground_truths should be in type Sequence[string]\n",
        "\n",
        "ground_truths = []\n",
        "for row in eval_dataset:\n",
        "    formatted_ground_truth = [row['ground_truth']]  # Wrap the string in a list\n",
        "    ground_truths.append(formatted_ground_truth)\n",
        "\n",
        "# Output the result\n",
        "print(ground_truths)"
      ]
    },
    {
      "cell_type": "code",
      "execution_count": 169,
      "metadata": {
        "colab": {
          "base_uri": "https://localhost:8080/"
        },
        "id": "XZm4Jqossi2a",
        "outputId": "e3d46113-865d-4504-b83c-05f683e514e1"
      },
      "outputs": [
        {
          "name": "stdout",
          "output_type": "stream",
          "text": [
            "[[\"'combined_info: Title:  سوم شخص غایب. Overview: فیلم سوم شخص غایب در ژانر کودک محصول سال 1397 به کارگردانی وحید نیکخواه آزاد است. در خلاصه داستان این فیلم آمده است که رشید در امتحانات شهریور مردود شده و پدرش اجازه ادامه تحصیل نمی دهد. دوستان او، امیر و سعید، خود را به آب و آتش می زنند تا مانع از ترک تحصیل دوست شان بشوند. Genres: ['خانوادگی', 'کودک']', metadata={row: '624', source: '/content/movie_updated.csv'}\"], [\"'فیلم شکلاتی درباره این فیلم درباره کارخانه شکلات سازی است که به پارسای ۱۳ ساله ارث می رسد و پارسا با کمک دوستان خود سعی در اداره آن دارد.', metadata={Actors: ' شبنم مقدمی و  ناصر هاشمی و  محمدرضا هدایتی و  ارژنگ امیرفضلی و  فرزین محدث و  علیرضا مسعودی', Crew: ' سهیل موفق و  کریم خودسیانی و  ایرج محمدی', Genre: 'خانوادگی و کمدی', Name: ' شکلاتی', Score: '0.9', Type: 'فیلم', Voted: '18330'}\"], [\"'فیلم شکلاتی درباره این فیلم درباره کارخانه شکلات سازی است که به پارسای ۱۳ ساله ارث می رسد و پارسا با کمک دوستان خود سعی در اداره آن دارد.', metadata={Actors: ' شبنم مقدمی و  ناصر هاشمی و  محمدرضا هدایتی و  ارژنگ امیرفضلی و  فرزین محدث و  علیرضا مسعودی', Crew: ' سهیل موفق و  کریم خودسیانی و  ایرج محمدی', Genre: 'خانوادگی و کمدی', Name: ' شکلاتی', Score: '0.9', Type: 'فیلم', Voted: '18330'}\"], [\"'فیلم شکلاتی درباره این فیلم درباره کارخانه شکلات سازی است که به پارسای ۱۳ ساله ارث می رسد و پارسا با کمک دوستان خود سعی در اداره آن دارد.', metadata={Actors: ' شبنم مقدمی و  ناصر هاشمی و  محمدرضا هدایتی و  ارژنگ امیرفضلی و  فرزین محدث و  علیرضا مسعودی', Crew: ' سهیل موفق و  کریم خودسیانی و  ایرج محمدی', Genre: 'خانوادگی و کمدی', Name: ' شکلاتی', Score: '0.9', Type: 'فیلم', Voted: '18330'}\"], [\"'Name: رویای نیمه شب پاییز\\nActors: [' امیر جعفری', ' پانته آ بهرام', ' سعید چنگیزیان', ' مسعود حجازی مهر']\\nScore: 0.84\\nAbout: این نمایش پیشنهادی است درباره اینکه چگونه می توان متن یک تعزیه را در دروره امروزی وارد جهان نمایش کرد و آن را با مسائل روز پیوند داد...\\nGenre: ['فیلم تئاتر']\\nCrew: [' کیومرث مرادی', ' نغمه ثمینی', ' حیدر ساجدی']\\nImage: https://static.cdn.asset.filimo.com/flmt/mov_25733_16999-m.jpg\\nVoted: 253\\nType: فیلم', metadata={row: '55', source: 'iranian_movies.csv'}\"], [\"'combined_info: Title:  جوانی. Overview: فیلم جوانی در ژانر اجتماعی محصول سال 1377 است. مجید قاری زاده کارگردانی این فیلم را به عهده دارد. از دیگر آثار او می توان فیلمهای رفقای خوب، پسران آجری، بی قرار، شقایق و... را نام برد. در خلاصه داستان این فیلم آمده است که امیر به همراه دوستانش نوید و عظیم کارهای خلاف انجام می دهند. او در پی ربودن کیف الهام که دانشجوی رشته فیلمسازی است با او آشنا می شود و... Genres: ['خانوادگی', 'اجتماعی']', metadata={row: '860', source: '/content/movie_updated.csv'}\"], [\"'combined_info: Title:  اسرافیل. Overview: فیلم اسرافیل ، درباره چالش ها و نیازهای عاطفی و روابط انسانی است و در خلاصه داستان این فیلم آمده است؛مردی که ماهی را دوست داشت بازگشته است. دختری که بهروز را دوست دارد باز می گردد...مردگان زنده می شوند. Genres: ['خانوادگی', 'اجتماعی']', metadata={row: '853', source: '/content/movie_updated.csv'}\"], [\"'Name: دزدان خیابان جردن\\nActors: [' فتحعلی اویسی', ' ارژنگ امیرفضلی', ' رضا شفیعی جم', ' حدیث فولادوند', ' رابعه اسکویی']\\nScore: 0.77\\nAbout: فیلم دزدان خبابان جردن داستان سامی سه سوت و هوشنگ است که قصد سرقت از یک گاو صندوق را در خیابان جردن دارند و ماجراهای عجیب و غریبی برایشان پیش می آید و…\\nGenre: ['کمدی', 'خانوادگی']\\nCrew: [' وحید اسلامی', ' داریوش بابائیان', ' محمد مجیدی']\\nImage: https://static.cdn.asset.filimo.com/flmt/mov_11989_20028-m.jpg\\nVoted: 1948\\nType: فیلم', metadata={row: '1106', source: 'iranian_movies.csv'}\"], [\"'Name: گاهی واقعی\\nActors: [' تیم رزان', ' میترا لهراسب', ' آهو خردمند', ' حدیث فولادوند', ' منیژه محامدی', ' مهتاج نجومی', ' ثریا حلی']\\nScore: 0.74\\nAbout: فیلم داستان انسانی را روایت می كند كه برای یافتن هویت اصلی اش به كشورش برمی گردد.\\nGenre: ['خانوادگی', 'اجتماعی']\\nCrew: [' رامین لباسچی', ' رامین لباسچی', ' داریوش بابائیان', ' فریبرز لاچینی', ' فرهاد صبا']\\nImage: https://static.cdn.asset.filimo.com/flmt/mov_2517_895-m.jpg\\nVoted: 168\\nType: فیلم', metadata={row: '31', source: 'iranian_movies.csv'}\"], [\"'combined_info: Title:  سوم شخص غایب. Overview: فیلم سوم شخص غایب در ژانر کودک محصول سال 1397 به کارگردانی وحید نیکخواه آزاد است. در خلاصه داستان این فیلم آمده است که رشید در امتحانات شهریور مردود شده و پدرش اجازه ادامه تحصیل نمی دهد. دوستان او، امیر و سعید، خود را به آب و آتش می زنند تا مانع از ترک تحصیل دوست شان بشوند. Genres: ['خانوادگی', 'کودک']', metadata={row: '624', source: '/content/movie_updated.csv'}\"]]\n"
          ]
        }
      ],
      "source": [
        "# retrieved context should be in type Sequence[string]\n",
        "\n",
        "retrieved_documents = []\n",
        "\n",
        "# Define the Document class\n",
        "class Document:\n",
        "    def __init__(self, page_content, metadata):\n",
        "        self.page_content = page_content\n",
        "        self.metadata = metadata\n",
        "\n",
        "def format_document(doc):\n",
        "    page_content = doc.page_content\n",
        "    metadata_str = ', '.join([f\"{key}: '{value}'\" for key, value in doc.metadata.items()])\n",
        "    return f\"'{page_content}', metadata={{{metadata_str}}}\"\n",
        "\n",
        "for query in questions:\n",
        "    documents = docsearch.similarity_search(query, k=1)  # Retrieve documents for each query\n",
        "    formatted_docs = [format_document(doc) for doc in documents]  # Format all documents for a query\n",
        "    retrieved_documents.append(formatted_docs)  # Append the list of formatted documents\n",
        "\n",
        "# Output the result\n",
        "print(retrieved_documents)\n"
      ]
    },
    {
      "cell_type": "code",
      "execution_count": 170,
      "metadata": {
        "id": "GbfGwOLRsXYF"
      },
      "outputs": [],
      "source": [
        "# Creating the new dictionary format\n",
        "data = {\n",
        "    \"question\": questions,\n",
        "    \"contexts\": retrieved_documents,\n",
        "    \"ground_truths\": ground_truths,\n",
        "    \"answer\": answers\n",
        "}\n",
        "# Convert dict to dataset\n",
        "dataset = Dataset.from_dict(data)"
      ]
    },
    {
      "cell_type": "code",
      "execution_count": 171,
      "metadata": {
        "colab": {
          "base_uri": "https://localhost:8080/"
        },
        "id": "6rqQkgHWs0lc",
        "outputId": "8a557941-fa3a-4311-d8db-2a9470626e00"
      },
      "outputs": [
        {
          "data": {
            "text/plain": [
              "Dataset({\n",
              "    features: ['question', 'contexts', 'ground_truths', 'answer'],\n",
              "    num_rows: 10\n",
              "})"
            ]
          },
          "execution_count": 171,
          "metadata": {},
          "output_type": "execute_result"
        }
      ],
      "source": [
        "dataset"
      ]
    },
    {
      "cell_type": "code",
      "execution_count": 172,
      "metadata": {
        "colab": {
          "base_uri": "https://localhost:8080/"
        },
        "id": "4aW-0n28MvLL",
        "outputId": "168b6194-dc23-4d6e-ba70-1f7e7f3d2c32"
      },
      "outputs": [
        {
          "data": {
            "text/plain": [
              "['چند نفر به این فیلم رای داده اند؟',\n",
              " 'فیلم ساوالان چه ژانری است؟',\n",
              " 'فیلم تمرین برای اجرا بازیگران آن چه کسانی هستند؟',\n",
              " 'فیلم شکلاتی چه ژانری است؟',\n",
              " 'چه جوری امتیاز فیلم شب زده است؟',\n",
              " 'فیلم فریاد در شب چه ژانری است؟',\n",
              " 'چند نفر به فیلم اسرافیل رای داده اند؟',\n",
              " 'فیلم دزدان خیابان جردن چه ژانری است؟',\n",
              " 'فیلم گاهی واقعی چه ژانری است؟',\n",
              " 'چند نفر به این فیلم رای داده اند؟']"
            ]
          },
          "execution_count": 172,
          "metadata": {},
          "output_type": "execute_result"
        }
      ],
      "source": [
        "dataset[\"question\"]"
      ]
    },
    {
      "cell_type": "code",
      "execution_count": 173,
      "metadata": {
        "colab": {
          "base_uri": "https://localhost:8080/"
        },
        "id": "T5lGd_w9Myu3",
        "outputId": "e22d5d7c-2103-4268-9a3a-5348ff541164"
      },
      "outputs": [
        {
          "data": {
            "text/plain": [
              "['2465 نفر به این فیلم رای داده اند.',\n",
              " 'فیلم شکلاتی یک فیلم کمدی است.',\n",
              " 'من نمی\\u200cدانم.',\n",
              " 'فیلم شکلاتی یک فیلم کمدی است.',\n",
              " 'امتیاز فیلم شب زده 0.84 است.',\n",
              " 'من نمی\\u200cدانم.',\n",
              " 'تعداد ۱۰۴۹۷ نفر به فیلم اسرافیل رای داده اند.',\n",
              " 'ژانر فیلم دزدان خیابان جردن کمدی و خانوادگی است.',\n",
              " 'فیلم گاهی واقعی ژانر خانوادگی و اجتماعی دارد.',\n",
              " '2465 نفر به این فیلم رای داده اند.']"
            ]
          },
          "execution_count": 173,
          "metadata": {},
          "output_type": "execute_result"
        }
      ],
      "source": [
        "dataset[\"answer\"]"
      ]
    },
    {
      "cell_type": "code",
      "execution_count": 174,
      "metadata": {
        "colab": {
          "base_uri": "https://localhost:8080/"
        },
        "id": "zygiVd54M0kY",
        "outputId": "395feed4-3df1-4c2c-80c2-f7e15c374356"
      },
      "outputs": [
        {
          "data": {
            "text/plain": [
              "[[\"'combined_info: Title:  سوم شخص غایب. Overview: فیلم سوم شخص غایب در ژانر کودک محصول سال 1397 به کارگردانی وحید نیکخواه آزاد است. در خلاصه داستان این فیلم آمده است که رشید در امتحانات شهریور مردود شده و پدرش اجازه ادامه تحصیل نمی دهد. دوستان او، امیر و سعید، خود را به آب و آتش می زنند تا مانع از ترک تحصیل دوست شان بشوند. Genres: ['خانوادگی', 'کودک']', metadata={row: '624', source: '/content/movie_updated.csv'}\"],\n",
              " [\"'فیلم شکلاتی درباره این فیلم درباره کارخانه شکلات سازی است که به پارسای ۱۳ ساله ارث می رسد و پارسا با کمک دوستان خود سعی در اداره آن دارد.', metadata={Actors: ' شبنم مقدمی و  ناصر هاشمی و  محمدرضا هدایتی و  ارژنگ امیرفضلی و  فرزین محدث و  علیرضا مسعودی', Crew: ' سهیل موفق و  کریم خودسیانی و  ایرج محمدی', Genre: 'خانوادگی و کمدی', Name: ' شکلاتی', Score: '0.9', Type: 'فیلم', Voted: '18330'}\"],\n",
              " [\"'فیلم شکلاتی درباره این فیلم درباره کارخانه شکلات سازی است که به پارسای ۱۳ ساله ارث می رسد و پارسا با کمک دوستان خود سعی در اداره آن دارد.', metadata={Actors: ' شبنم مقدمی و  ناصر هاشمی و  محمدرضا هدایتی و  ارژنگ امیرفضلی و  فرزین محدث و  علیرضا مسعودی', Crew: ' سهیل موفق و  کریم خودسیانی و  ایرج محمدی', Genre: 'خانوادگی و کمدی', Name: ' شکلاتی', Score: '0.9', Type: 'فیلم', Voted: '18330'}\"],\n",
              " [\"'فیلم شکلاتی درباره این فیلم درباره کارخانه شکلات سازی است که به پارسای ۱۳ ساله ارث می رسد و پارسا با کمک دوستان خود سعی در اداره آن دارد.', metadata={Actors: ' شبنم مقدمی و  ناصر هاشمی و  محمدرضا هدایتی و  ارژنگ امیرفضلی و  فرزین محدث و  علیرضا مسعودی', Crew: ' سهیل موفق و  کریم خودسیانی و  ایرج محمدی', Genre: 'خانوادگی و کمدی', Name: ' شکلاتی', Score: '0.9', Type: 'فیلم', Voted: '18330'}\"],\n",
              " [\"'Name: رویای نیمه شب پاییز\\nActors: [' امیر جعفری', ' پانته آ بهرام', ' سعید چنگیزیان', ' مسعود حجازی مهر']\\nScore: 0.84\\nAbout: این نمایش پیشنهادی است درباره اینکه چگونه می توان متن یک تعزیه را در دروره امروزی وارد جهان نمایش کرد و آن را با مسائل روز پیوند داد...\\nGenre: ['فیلم تئاتر']\\nCrew: [' کیومرث مرادی', ' نغمه ثمینی', ' حیدر ساجدی']\\nImage: https://static.cdn.asset.filimo.com/flmt/mov_25733_16999-m.jpg\\nVoted: 253\\nType: فیلم', metadata={row: '55', source: 'iranian_movies.csv'}\"],\n",
              " [\"'combined_info: Title:  جوانی. Overview: فیلم جوانی در ژانر اجتماعی محصول سال 1377 است. مجید قاری زاده کارگردانی این فیلم را به عهده دارد. از دیگر آثار او می توان فیلمهای رفقای خوب، پسران آجری، بی قرار، شقایق و... را نام برد. در خلاصه داستان این فیلم آمده است که امیر به همراه دوستانش نوید و عظیم کارهای خلاف انجام می دهند. او در پی ربودن کیف الهام که دانشجوی رشته فیلمسازی است با او آشنا می شود و... Genres: ['خانوادگی', 'اجتماعی']', metadata={row: '860', source: '/content/movie_updated.csv'}\"],\n",
              " [\"'combined_info: Title:  اسرافیل. Overview: فیلم اسرافیل ، درباره چالش ها و نیازهای عاطفی و روابط انسانی است و در خلاصه داستان این فیلم آمده است؛مردی که ماهی را دوست داشت بازگشته است. دختری که بهروز را دوست دارد باز می گردد...مردگان زنده می شوند. Genres: ['خانوادگی', 'اجتماعی']', metadata={row: '853', source: '/content/movie_updated.csv'}\"],\n",
              " [\"'Name: دزدان خیابان جردن\\nActors: [' فتحعلی اویسی', ' ارژنگ امیرفضلی', ' رضا شفیعی جم', ' حدیث فولادوند', ' رابعه اسکویی']\\nScore: 0.77\\nAbout: فیلم دزدان خبابان جردن داستان سامی سه سوت و هوشنگ است که قصد سرقت از یک گاو صندوق را در خیابان جردن دارند و ماجراهای عجیب و غریبی برایشان پیش می آید و…\\nGenre: ['کمدی', 'خانوادگی']\\nCrew: [' وحید اسلامی', ' داریوش بابائیان', ' محمد مجیدی']\\nImage: https://static.cdn.asset.filimo.com/flmt/mov_11989_20028-m.jpg\\nVoted: 1948\\nType: فیلم', metadata={row: '1106', source: 'iranian_movies.csv'}\"],\n",
              " [\"'Name: گاهی واقعی\\nActors: [' تیم رزان', ' میترا لهراسب', ' آهو خردمند', ' حدیث فولادوند', ' منیژه محامدی', ' مهتاج نجومی', ' ثریا حلی']\\nScore: 0.74\\nAbout: فیلم داستان انسانی را روایت می كند كه برای یافتن هویت اصلی اش به كشورش برمی گردد.\\nGenre: ['خانوادگی', 'اجتماعی']\\nCrew: [' رامین لباسچی', ' رامین لباسچی', ' داریوش بابائیان', ' فریبرز لاچینی', ' فرهاد صبا']\\nImage: https://static.cdn.asset.filimo.com/flmt/mov_2517_895-m.jpg\\nVoted: 168\\nType: فیلم', metadata={row: '31', source: 'iranian_movies.csv'}\"],\n",
              " [\"'combined_info: Title:  سوم شخص غایب. Overview: فیلم سوم شخص غایب در ژانر کودک محصول سال 1397 به کارگردانی وحید نیکخواه آزاد است. در خلاصه داستان این فیلم آمده است که رشید در امتحانات شهریور مردود شده و پدرش اجازه ادامه تحصیل نمی دهد. دوستان او، امیر و سعید، خود را به آب و آتش می زنند تا مانع از ترک تحصیل دوست شان بشوند. Genres: ['خانوادگی', 'کودک']', metadata={row: '624', source: '/content/movie_updated.csv'}\"]]"
            ]
          },
          "execution_count": 174,
          "metadata": {},
          "output_type": "execute_result"
        }
      ],
      "source": [
        "dataset[\"contexts\"]"
      ]
    },
    {
      "cell_type": "code",
      "execution_count": 175,
      "metadata": {
        "colab": {
          "base_uri": "https://localhost:8080/",
          "height": 363
        },
        "id": "aQd8m6Te53av",
        "outputId": "4d5198c8-e130-4a09-ff17-54a5b92522b6"
      },
      "outputs": [
        {
          "data": {
            "text/html": [
              "\n",
              "  <div id=\"df-108324da-b599-4b13-9898-e50a8c2119b1\" class=\"colab-df-container\">\n",
              "    <div>\n",
              "<style scoped>\n",
              "    .dataframe tbody tr th:only-of-type {\n",
              "        vertical-align: middle;\n",
              "    }\n",
              "\n",
              "    .dataframe tbody tr th {\n",
              "        vertical-align: top;\n",
              "    }\n",
              "\n",
              "    .dataframe thead th {\n",
              "        text-align: right;\n",
              "    }\n",
              "</style>\n",
              "<table border=\"1\" class=\"dataframe\">\n",
              "  <thead>\n",
              "    <tr style=\"text-align: right;\">\n",
              "      <th></th>\n",
              "      <th>question</th>\n",
              "      <th>contexts</th>\n",
              "      <th>ground_truths</th>\n",
              "      <th>answer</th>\n",
              "    </tr>\n",
              "  </thead>\n",
              "  <tbody>\n",
              "    <tr>\n",
              "      <th>0</th>\n",
              "      <td>چند نفر به این فیلم رای داده اند؟</td>\n",
              "      <td>['combined_info: Title:  سوم شخص غایب. Overvie...</td>\n",
              "      <td>[149 نفر به این فیلم رای داده اند.]</td>\n",
              "      <td>2465 نفر به این فیلم رای داده اند.</td>\n",
              "    </tr>\n",
              "    <tr>\n",
              "      <th>1</th>\n",
              "      <td>فیلم ساوالان چه ژانری است؟</td>\n",
              "      <td>['فیلم شکلاتی درباره این فیلم درباره کارخانه ش...</td>\n",
              "      <td>[ژانر فیلم ساوالان اکشن و ماجراجویی است.]</td>\n",
              "      <td>فیلم شکلاتی یک فیلم کمدی است.</td>\n",
              "    </tr>\n",
              "    <tr>\n",
              "      <th>2</th>\n",
              "      <td>فیلم تمرین برای اجرا بازیگران آن چه کسانی هستند؟</td>\n",
              "      <td>['فیلم شکلاتی درباره این فیلم درباره کارخانه ش...</td>\n",
              "      <td>[بازیگران فیلم تمرین برای اجرا عبارتند از: میک...</td>\n",
              "      <td>من نمی‌دانم.</td>\n",
              "    </tr>\n",
              "    <tr>\n",
              "      <th>3</th>\n",
              "      <td>فیلم شکلاتی چه ژانری است؟</td>\n",
              "      <td>['فیلم شکلاتی درباره این فیلم درباره کارخانه ش...</td>\n",
              "      <td>[ژانر فیلم شکلاتی خانوادگی و کمدی است.]</td>\n",
              "      <td>فیلم شکلاتی یک فیلم کمدی است.</td>\n",
              "    </tr>\n",
              "    <tr>\n",
              "      <th>4</th>\n",
              "      <td>چه جوری امتیاز فیلم شب زده است؟</td>\n",
              "      <td>['Name: رویای نیمه شب پاییز\\nActors: [' امیر ج...</td>\n",
              "      <td>[امتیاز فیلم شب زده 0.73 است.]</td>\n",
              "      <td>امتیاز فیلم شب زده 0.84 است.</td>\n",
              "    </tr>\n",
              "    <tr>\n",
              "      <th>5</th>\n",
              "      <td>فیلم فریاد در شب چه ژانری است؟</td>\n",
              "      <td>['combined_info: Title:  جوانی. Overview: فیلم...</td>\n",
              "      <td>[ژانر فیلم فریاد در شب خانوادگی و اجتماعی است.]</td>\n",
              "      <td>من نمی‌دانم.</td>\n",
              "    </tr>\n",
              "    <tr>\n",
              "      <th>6</th>\n",
              "      <td>چند نفر به فیلم اسرافیل رای داده اند؟</td>\n",
              "      <td>['combined_info: Title:  اسرافیل. Overview: فی...</td>\n",
              "      <td>[10497 نفر به فیلم اسرافیل رای داده اند.]</td>\n",
              "      <td>تعداد ۱۰۴۹۷ نفر به فیلم اسرافیل رای داده اند.</td>\n",
              "    </tr>\n",
              "    <tr>\n",
              "      <th>7</th>\n",
              "      <td>فیلم دزدان خیابان جردن چه ژانری است؟</td>\n",
              "      <td>['Name: دزدان خیابان جردن\\nActors: [' فتحعلی ا...</td>\n",
              "      <td>[کمدی و خانوادگی]</td>\n",
              "      <td>ژانر فیلم دزدان خیابان جردن کمدی و خانوادگی است.</td>\n",
              "    </tr>\n",
              "    <tr>\n",
              "      <th>8</th>\n",
              "      <td>فیلم گاهی واقعی چه ژانری است؟</td>\n",
              "      <td>['Name: گاهی واقعی\\nActors: [' تیم رزان', ' می...</td>\n",
              "      <td>[ژانر فیلم گاهی واقعی خانوادگی و اجتماعی است.]</td>\n",
              "      <td>فیلم گاهی واقعی ژانر خانوادگی و اجتماعی دارد.</td>\n",
              "    </tr>\n",
              "    <tr>\n",
              "      <th>9</th>\n",
              "      <td>چند نفر به این فیلم رای داده اند؟</td>\n",
              "      <td>['combined_info: Title:  سوم شخص غایب. Overvie...</td>\n",
              "      <td>[199 نفر به این فیلم رای داده اند.]</td>\n",
              "      <td>2465 نفر به این فیلم رای داده اند.</td>\n",
              "    </tr>\n",
              "  </tbody>\n",
              "</table>\n",
              "</div>\n",
              "    <div class=\"colab-df-buttons\">\n",
              "\n",
              "  <div class=\"colab-df-container\">\n",
              "    <button class=\"colab-df-convert\" onclick=\"convertToInteractive('df-108324da-b599-4b13-9898-e50a8c2119b1')\"\n",
              "            title=\"Convert this dataframe to an interactive table.\"\n",
              "            style=\"display:none;\">\n",
              "\n",
              "  <svg xmlns=\"http://www.w3.org/2000/svg\" height=\"24px\" viewBox=\"0 -960 960 960\">\n",
              "    <path d=\"M120-120v-720h720v720H120Zm60-500h600v-160H180v160Zm220 220h160v-160H400v160Zm0 220h160v-160H400v160ZM180-400h160v-160H180v160Zm440 0h160v-160H620v160ZM180-180h160v-160H180v160Zm440 0h160v-160H620v160Z\"/>\n",
              "  </svg>\n",
              "    </button>\n",
              "\n",
              "  <style>\n",
              "    .colab-df-container {\n",
              "      display:flex;\n",
              "      gap: 12px;\n",
              "    }\n",
              "\n",
              "    .colab-df-convert {\n",
              "      background-color: #E8F0FE;\n",
              "      border: none;\n",
              "      border-radius: 50%;\n",
              "      cursor: pointer;\n",
              "      display: none;\n",
              "      fill: #1967D2;\n",
              "      height: 32px;\n",
              "      padding: 0 0 0 0;\n",
              "      width: 32px;\n",
              "    }\n",
              "\n",
              "    .colab-df-convert:hover {\n",
              "      background-color: #E2EBFA;\n",
              "      box-shadow: 0px 1px 2px rgba(60, 64, 67, 0.3), 0px 1px 3px 1px rgba(60, 64, 67, 0.15);\n",
              "      fill: #174EA6;\n",
              "    }\n",
              "\n",
              "    .colab-df-buttons div {\n",
              "      margin-bottom: 4px;\n",
              "    }\n",
              "\n",
              "    [theme=dark] .colab-df-convert {\n",
              "      background-color: #3B4455;\n",
              "      fill: #D2E3FC;\n",
              "    }\n",
              "\n",
              "    [theme=dark] .colab-df-convert:hover {\n",
              "      background-color: #434B5C;\n",
              "      box-shadow: 0px 1px 3px 1px rgba(0, 0, 0, 0.15);\n",
              "      filter: drop-shadow(0px 1px 2px rgba(0, 0, 0, 0.3));\n",
              "      fill: #FFFFFF;\n",
              "    }\n",
              "  </style>\n",
              "\n",
              "    <script>\n",
              "      const buttonEl =\n",
              "        document.querySelector('#df-108324da-b599-4b13-9898-e50a8c2119b1 button.colab-df-convert');\n",
              "      buttonEl.style.display =\n",
              "        google.colab.kernel.accessAllowed ? 'block' : 'none';\n",
              "\n",
              "      async function convertToInteractive(key) {\n",
              "        const element = document.querySelector('#df-108324da-b599-4b13-9898-e50a8c2119b1');\n",
              "        const dataTable =\n",
              "          await google.colab.kernel.invokeFunction('convertToInteractive',\n",
              "                                                    [key], {});\n",
              "        if (!dataTable) return;\n",
              "\n",
              "        const docLinkHtml = 'Like what you see? Visit the ' +\n",
              "          '<a target=\"_blank\" href=https://colab.research.google.com/notebooks/data_table.ipynb>data table notebook</a>'\n",
              "          + ' to learn more about interactive tables.';\n",
              "        element.innerHTML = '';\n",
              "        dataTable['output_type'] = 'display_data';\n",
              "        await google.colab.output.renderOutput(dataTable, element);\n",
              "        const docLink = document.createElement('div');\n",
              "        docLink.innerHTML = docLinkHtml;\n",
              "        element.appendChild(docLink);\n",
              "      }\n",
              "    </script>\n",
              "  </div>\n",
              "\n",
              "\n",
              "<div id=\"df-fd0380a2-ccfb-4bb4-81a2-2df3778d4308\">\n",
              "  <button class=\"colab-df-quickchart\" onclick=\"quickchart('df-fd0380a2-ccfb-4bb4-81a2-2df3778d4308')\"\n",
              "            title=\"Suggest charts\"\n",
              "            style=\"display:none;\">\n",
              "\n",
              "<svg xmlns=\"http://www.w3.org/2000/svg\" height=\"24px\"viewBox=\"0 0 24 24\"\n",
              "     width=\"24px\">\n",
              "    <g>\n",
              "        <path d=\"M19 3H5c-1.1 0-2 .9-2 2v14c0 1.1.9 2 2 2h14c1.1 0 2-.9 2-2V5c0-1.1-.9-2-2-2zM9 17H7v-7h2v7zm4 0h-2V7h2v10zm4 0h-2v-4h2v4z\"/>\n",
              "    </g>\n",
              "</svg>\n",
              "  </button>\n",
              "\n",
              "<style>\n",
              "  .colab-df-quickchart {\n",
              "      --bg-color: #E8F0FE;\n",
              "      --fill-color: #1967D2;\n",
              "      --hover-bg-color: #E2EBFA;\n",
              "      --hover-fill-color: #174EA6;\n",
              "      --disabled-fill-color: #AAA;\n",
              "      --disabled-bg-color: #DDD;\n",
              "  }\n",
              "\n",
              "  [theme=dark] .colab-df-quickchart {\n",
              "      --bg-color: #3B4455;\n",
              "      --fill-color: #D2E3FC;\n",
              "      --hover-bg-color: #434B5C;\n",
              "      --hover-fill-color: #FFFFFF;\n",
              "      --disabled-bg-color: #3B4455;\n",
              "      --disabled-fill-color: #666;\n",
              "  }\n",
              "\n",
              "  .colab-df-quickchart {\n",
              "    background-color: var(--bg-color);\n",
              "    border: none;\n",
              "    border-radius: 50%;\n",
              "    cursor: pointer;\n",
              "    display: none;\n",
              "    fill: var(--fill-color);\n",
              "    height: 32px;\n",
              "    padding: 0;\n",
              "    width: 32px;\n",
              "  }\n",
              "\n",
              "  .colab-df-quickchart:hover {\n",
              "    background-color: var(--hover-bg-color);\n",
              "    box-shadow: 0 1px 2px rgba(60, 64, 67, 0.3), 0 1px 3px 1px rgba(60, 64, 67, 0.15);\n",
              "    fill: var(--button-hover-fill-color);\n",
              "  }\n",
              "\n",
              "  .colab-df-quickchart-complete:disabled,\n",
              "  .colab-df-quickchart-complete:disabled:hover {\n",
              "    background-color: var(--disabled-bg-color);\n",
              "    fill: var(--disabled-fill-color);\n",
              "    box-shadow: none;\n",
              "  }\n",
              "\n",
              "  .colab-df-spinner {\n",
              "    border: 2px solid var(--fill-color);\n",
              "    border-color: transparent;\n",
              "    border-bottom-color: var(--fill-color);\n",
              "    animation:\n",
              "      spin 1s steps(1) infinite;\n",
              "  }\n",
              "\n",
              "  @keyframes spin {\n",
              "    0% {\n",
              "      border-color: transparent;\n",
              "      border-bottom-color: var(--fill-color);\n",
              "      border-left-color: var(--fill-color);\n",
              "    }\n",
              "    20% {\n",
              "      border-color: transparent;\n",
              "      border-left-color: var(--fill-color);\n",
              "      border-top-color: var(--fill-color);\n",
              "    }\n",
              "    30% {\n",
              "      border-color: transparent;\n",
              "      border-left-color: var(--fill-color);\n",
              "      border-top-color: var(--fill-color);\n",
              "      border-right-color: var(--fill-color);\n",
              "    }\n",
              "    40% {\n",
              "      border-color: transparent;\n",
              "      border-right-color: var(--fill-color);\n",
              "      border-top-color: var(--fill-color);\n",
              "    }\n",
              "    60% {\n",
              "      border-color: transparent;\n",
              "      border-right-color: var(--fill-color);\n",
              "    }\n",
              "    80% {\n",
              "      border-color: transparent;\n",
              "      border-right-color: var(--fill-color);\n",
              "      border-bottom-color: var(--fill-color);\n",
              "    }\n",
              "    90% {\n",
              "      border-color: transparent;\n",
              "      border-bottom-color: var(--fill-color);\n",
              "    }\n",
              "  }\n",
              "</style>\n",
              "\n",
              "  <script>\n",
              "    async function quickchart(key) {\n",
              "      const quickchartButtonEl =\n",
              "        document.querySelector('#' + key + ' button');\n",
              "      quickchartButtonEl.disabled = true;  // To prevent multiple clicks.\n",
              "      quickchartButtonEl.classList.add('colab-df-spinner');\n",
              "      try {\n",
              "        const charts = await google.colab.kernel.invokeFunction(\n",
              "            'suggestCharts', [key], {});\n",
              "      } catch (error) {\n",
              "        console.error('Error during call to suggestCharts:', error);\n",
              "      }\n",
              "      quickchartButtonEl.classList.remove('colab-df-spinner');\n",
              "      quickchartButtonEl.classList.add('colab-df-quickchart-complete');\n",
              "    }\n",
              "    (() => {\n",
              "      let quickchartButtonEl =\n",
              "        document.querySelector('#df-fd0380a2-ccfb-4bb4-81a2-2df3778d4308 button');\n",
              "      quickchartButtonEl.style.display =\n",
              "        google.colab.kernel.accessAllowed ? 'block' : 'none';\n",
              "    })();\n",
              "  </script>\n",
              "</div>\n",
              "    </div>\n",
              "  </div>\n"
            ],
            "text/plain": [
              "                                           question  \\\n",
              "0                 چند نفر به این فیلم رای داده اند؟   \n",
              "1                        فیلم ساوالان چه ژانری است؟   \n",
              "2  فیلم تمرین برای اجرا بازیگران آن چه کسانی هستند؟   \n",
              "3                         فیلم شکلاتی چه ژانری است؟   \n",
              "4                   چه جوری امتیاز فیلم شب زده است؟   \n",
              "5                    فیلم فریاد در شب چه ژانری است؟   \n",
              "6             چند نفر به فیلم اسرافیل رای داده اند؟   \n",
              "7              فیلم دزدان خیابان جردن چه ژانری است؟   \n",
              "8                     فیلم گاهی واقعی چه ژانری است؟   \n",
              "9                 چند نفر به این فیلم رای داده اند؟   \n",
              "\n",
              "                                            contexts  \\\n",
              "0  ['combined_info: Title:  سوم شخص غایب. Overvie...   \n",
              "1  ['فیلم شکلاتی درباره این فیلم درباره کارخانه ش...   \n",
              "2  ['فیلم شکلاتی درباره این فیلم درباره کارخانه ش...   \n",
              "3  ['فیلم شکلاتی درباره این فیلم درباره کارخانه ش...   \n",
              "4  ['Name: رویای نیمه شب پاییز\\nActors: [' امیر ج...   \n",
              "5  ['combined_info: Title:  جوانی. Overview: فیلم...   \n",
              "6  ['combined_info: Title:  اسرافیل. Overview: فی...   \n",
              "7  ['Name: دزدان خیابان جردن\\nActors: [' فتحعلی ا...   \n",
              "8  ['Name: گاهی واقعی\\nActors: [' تیم رزان', ' می...   \n",
              "9  ['combined_info: Title:  سوم شخص غایب. Overvie...   \n",
              "\n",
              "                                       ground_truths  \\\n",
              "0                [149 نفر به این فیلم رای داده اند.]   \n",
              "1          [ژانر فیلم ساوالان اکشن و ماجراجویی است.]   \n",
              "2  [بازیگران فیلم تمرین برای اجرا عبارتند از: میک...   \n",
              "3            [ژانر فیلم شکلاتی خانوادگی و کمدی است.]   \n",
              "4                     [امتیاز فیلم شب زده 0.73 است.]   \n",
              "5    [ژانر فیلم فریاد در شب خانوادگی و اجتماعی است.]   \n",
              "6          [10497 نفر به فیلم اسرافیل رای داده اند.]   \n",
              "7                                  [کمدی و خانوادگی]   \n",
              "8     [ژانر فیلم گاهی واقعی خانوادگی و اجتماعی است.]   \n",
              "9                [199 نفر به این فیلم رای داده اند.]   \n",
              "\n",
              "                                             answer  \n",
              "0                2465 نفر به این فیلم رای داده اند.  \n",
              "1                     فیلم شکلاتی یک فیلم کمدی است.  \n",
              "2                                      من نمی‌دانم.  \n",
              "3                     فیلم شکلاتی یک فیلم کمدی است.  \n",
              "4                      امتیاز فیلم شب زده 0.84 است.  \n",
              "5                                      من نمی‌دانم.  \n",
              "6     تعداد ۱۰۴۹۷ نفر به فیلم اسرافیل رای داده اند.  \n",
              "7  ژانر فیلم دزدان خیابان جردن کمدی و خانوادگی است.  \n",
              "8     فیلم گاهی واقعی ژانر خانوادگی و اجتماعی دارد.  \n",
              "9                2465 نفر به این فیلم رای داده اند.  "
            ]
          },
          "execution_count": 175,
          "metadata": {},
          "output_type": "execute_result"
        }
      ],
      "source": [
        "dataset.to_pandas()"
      ]
    },
    {
      "cell_type": "markdown",
      "metadata": {
        "id": "cZl-yLCNjRBS"
      },
      "source": [
        "# **RAGAS Evaluation Metrics**"
      ]
    },
    {
      "cell_type": "code",
      "execution_count": 193,
      "metadata": {
        "colab": {
          "base_uri": "https://localhost:8080/"
        },
        "id": "gOFAOGRZrKs5",
        "outputId": "dafdb86c-9d6e-42ba-a173-07af3b5365a1"
      },
      "outputs": [
        {
          "name": "stdout",
          "output_type": "stream",
          "text": [
            "evaluating with [context_precision]\n"
          ]
        },
        {
          "name": "stderr",
          "output_type": "stream",
          "text": [
            "100%|██████████| 1/1 [00:02<00:00,  2.88s/it]\n"
          ]
        },
        {
          "name": "stdout",
          "output_type": "stream",
          "text": [
            "evaluating with [context_recall]\n"
          ]
        },
        {
          "name": "stderr",
          "output_type": "stream",
          "text": [
            "100%|██████████| 1/1 [00:03<00:00,  3.01s/it]\n"
          ]
        },
        {
          "name": "stdout",
          "output_type": "stream",
          "text": [
            "evaluating with [faithfulness]\n"
          ]
        },
        {
          "name": "stderr",
          "output_type": "stream",
          "text": [
            "100%|██████████| 1/1 [00:08<00:00,  8.02s/it]\n"
          ]
        },
        {
          "name": "stdout",
          "output_type": "stream",
          "text": [
            "evaluating with [answer_relevancy]\n"
          ]
        },
        {
          "name": "stderr",
          "output_type": "stream",
          "text": [
            "100%|██████████| 1/1 [00:12<00:00, 12.10s/it]\n"
          ]
        }
      ],
      "source": [
        "from ragas import evaluate\n",
        "from ragas.metrics import (\n",
        "    faithfulness,\n",
        "    answer_relevancy,\n",
        "    context_recall,\n",
        "    context_precision,\n",
        ")\n",
        "\n",
        "result = evaluate(\n",
        "    dataset = dataset,\n",
        "    metrics=[\n",
        "        context_precision,\n",
        "        context_recall,\n",
        "        faithfulness,\n",
        "        answer_relevancy,\n",
        "    ],\n",
        ")\n",
        "\n",
        "df = result.to_pandas()"
      ]
    },
    {
      "cell_type": "code",
      "execution_count": 182,
      "metadata": {
        "colab": {
          "base_uri": "https://localhost:8080/",
          "height": 293
        },
        "id": "0VnMQD16EnNw",
        "outputId": "f5be29c0-d62a-40c3-bee8-69483e363338"
      },
      "outputs": [
        {
          "data": {
            "text/html": [
              "\n",
              "  <div id=\"df-7408f373-e1c9-4839-b451-b9e8d1588543\" class=\"colab-df-container\">\n",
              "    <div>\n",
              "<style scoped>\n",
              "    .dataframe tbody tr th:only-of-type {\n",
              "        vertical-align: middle;\n",
              "    }\n",
              "\n",
              "    .dataframe tbody tr th {\n",
              "        vertical-align: top;\n",
              "    }\n",
              "\n",
              "    .dataframe thead th {\n",
              "        text-align: right;\n",
              "    }\n",
              "</style>\n",
              "<table border=\"1\" class=\"dataframe\">\n",
              "  <thead>\n",
              "    <tr style=\"text-align: right;\">\n",
              "      <th></th>\n",
              "      <th>question</th>\n",
              "      <th>contexts</th>\n",
              "      <th>ground_truths</th>\n",
              "      <th>answer</th>\n",
              "      <th>context_precision</th>\n",
              "      <th>context_recall</th>\n",
              "      <th>faithfulness</th>\n",
              "      <th>answer_relevancy</th>\n",
              "    </tr>\n",
              "  </thead>\n",
              "  <tbody>\n",
              "    <tr>\n",
              "      <th>0</th>\n",
              "      <td>چند نفر به این فیلم رای داده اند؟</td>\n",
              "      <td>['combined_info: Title:  سوم شخص غایب. Overvie...</td>\n",
              "      <td>[149 نفر به این فیلم رای داده اند.]</td>\n",
              "      <td>2465 نفر به این فیلم رای داده اند.</td>\n",
              "      <td>0.0</td>\n",
              "      <td>0.0</td>\n",
              "      <td>0.0</td>\n",
              "      <td>0.837088</td>\n",
              "    </tr>\n",
              "    <tr>\n",
              "      <th>1</th>\n",
              "      <td>فیلم ساوالان چه ژانری است؟</td>\n",
              "      <td>['فیلم شکلاتی درباره این فیلم درباره کارخانه ش...</td>\n",
              "      <td>[ژانر فیلم ساوالان اکشن و ماجراجویی است.]</td>\n",
              "      <td>فیلم شکلاتی یک فیلم کمدی است.</td>\n",
              "      <td>1.0</td>\n",
              "      <td>0.0</td>\n",
              "      <td>1.0</td>\n",
              "      <td>0.875436</td>\n",
              "    </tr>\n",
              "    <tr>\n",
              "      <th>2</th>\n",
              "      <td>فیلم تمرین برای اجرا بازیگران آن چه کسانی هستند؟</td>\n",
              "      <td>['فیلم شکلاتی درباره این فیلم درباره کارخانه ش...</td>\n",
              "      <td>[بازیگران فیلم تمرین برای اجرا عبارتند از: میک...</td>\n",
              "      <td>من نمی‌دانم.</td>\n",
              "      <td>0.0</td>\n",
              "      <td>0.0</td>\n",
              "      <td>0.0</td>\n",
              "      <td>0.000000</td>\n",
              "    </tr>\n",
              "    <tr>\n",
              "      <th>3</th>\n",
              "      <td>فیلم شکلاتی چه ژانری است؟</td>\n",
              "      <td>['فیلم شکلاتی درباره این فیلم درباره کارخانه ش...</td>\n",
              "      <td>[ژانر فیلم شکلاتی خانوادگی و کمدی است.]</td>\n",
              "      <td>فیلم شکلاتی یک فیلم کمدی است.</td>\n",
              "      <td>1.0</td>\n",
              "      <td>1.0</td>\n",
              "      <td>1.0</td>\n",
              "      <td>0.907777</td>\n",
              "    </tr>\n",
              "    <tr>\n",
              "      <th>4</th>\n",
              "      <td>چه جوری امتیاز فیلم شب زده است؟</td>\n",
              "      <td>['Name: رویای نیمه شب پاییز\\nActors: [' امیر ج...</td>\n",
              "      <td>[امتیاز فیلم شب زده 0.73 است.]</td>\n",
              "      <td>امتیاز فیلم شب زده 0.84 است.</td>\n",
              "      <td>0.0</td>\n",
              "      <td>1.0</td>\n",
              "      <td>1.0</td>\n",
              "      <td>0.891968</td>\n",
              "    </tr>\n",
              "  </tbody>\n",
              "</table>\n",
              "</div>\n",
              "    <div class=\"colab-df-buttons\">\n",
              "\n",
              "  <div class=\"colab-df-container\">\n",
              "    <button class=\"colab-df-convert\" onclick=\"convertToInteractive('df-7408f373-e1c9-4839-b451-b9e8d1588543')\"\n",
              "            title=\"Convert this dataframe to an interactive table.\"\n",
              "            style=\"display:none;\">\n",
              "\n",
              "  <svg xmlns=\"http://www.w3.org/2000/svg\" height=\"24px\" viewBox=\"0 -960 960 960\">\n",
              "    <path d=\"M120-120v-720h720v720H120Zm60-500h600v-160H180v160Zm220 220h160v-160H400v160Zm0 220h160v-160H400v160ZM180-400h160v-160H180v160Zm440 0h160v-160H620v160ZM180-180h160v-160H180v160Zm440 0h160v-160H620v160Z\"/>\n",
              "  </svg>\n",
              "    </button>\n",
              "\n",
              "  <style>\n",
              "    .colab-df-container {\n",
              "      display:flex;\n",
              "      gap: 12px;\n",
              "    }\n",
              "\n",
              "    .colab-df-convert {\n",
              "      background-color: #E8F0FE;\n",
              "      border: none;\n",
              "      border-radius: 50%;\n",
              "      cursor: pointer;\n",
              "      display: none;\n",
              "      fill: #1967D2;\n",
              "      height: 32px;\n",
              "      padding: 0 0 0 0;\n",
              "      width: 32px;\n",
              "    }\n",
              "\n",
              "    .colab-df-convert:hover {\n",
              "      background-color: #E2EBFA;\n",
              "      box-shadow: 0px 1px 2px rgba(60, 64, 67, 0.3), 0px 1px 3px 1px rgba(60, 64, 67, 0.15);\n",
              "      fill: #174EA6;\n",
              "    }\n",
              "\n",
              "    .colab-df-buttons div {\n",
              "      margin-bottom: 4px;\n",
              "    }\n",
              "\n",
              "    [theme=dark] .colab-df-convert {\n",
              "      background-color: #3B4455;\n",
              "      fill: #D2E3FC;\n",
              "    }\n",
              "\n",
              "    [theme=dark] .colab-df-convert:hover {\n",
              "      background-color: #434B5C;\n",
              "      box-shadow: 0px 1px 3px 1px rgba(0, 0, 0, 0.15);\n",
              "      filter: drop-shadow(0px 1px 2px rgba(0, 0, 0, 0.3));\n",
              "      fill: #FFFFFF;\n",
              "    }\n",
              "  </style>\n",
              "\n",
              "    <script>\n",
              "      const buttonEl =\n",
              "        document.querySelector('#df-7408f373-e1c9-4839-b451-b9e8d1588543 button.colab-df-convert');\n",
              "      buttonEl.style.display =\n",
              "        google.colab.kernel.accessAllowed ? 'block' : 'none';\n",
              "\n",
              "      async function convertToInteractive(key) {\n",
              "        const element = document.querySelector('#df-7408f373-e1c9-4839-b451-b9e8d1588543');\n",
              "        const dataTable =\n",
              "          await google.colab.kernel.invokeFunction('convertToInteractive',\n",
              "                                                    [key], {});\n",
              "        if (!dataTable) return;\n",
              "\n",
              "        const docLinkHtml = 'Like what you see? Visit the ' +\n",
              "          '<a target=\"_blank\" href=https://colab.research.google.com/notebooks/data_table.ipynb>data table notebook</a>'\n",
              "          + ' to learn more about interactive tables.';\n",
              "        element.innerHTML = '';\n",
              "        dataTable['output_type'] = 'display_data';\n",
              "        await google.colab.output.renderOutput(dataTable, element);\n",
              "        const docLink = document.createElement('div');\n",
              "        docLink.innerHTML = docLinkHtml;\n",
              "        element.appendChild(docLink);\n",
              "      }\n",
              "    </script>\n",
              "  </div>\n",
              "\n",
              "\n",
              "<div id=\"df-f37d081a-8dc1-4499-8005-cd1035dfcf84\">\n",
              "  <button class=\"colab-df-quickchart\" onclick=\"quickchart('df-f37d081a-8dc1-4499-8005-cd1035dfcf84')\"\n",
              "            title=\"Suggest charts\"\n",
              "            style=\"display:none;\">\n",
              "\n",
              "<svg xmlns=\"http://www.w3.org/2000/svg\" height=\"24px\"viewBox=\"0 0 24 24\"\n",
              "     width=\"24px\">\n",
              "    <g>\n",
              "        <path d=\"M19 3H5c-1.1 0-2 .9-2 2v14c0 1.1.9 2 2 2h14c1.1 0 2-.9 2-2V5c0-1.1-.9-2-2-2zM9 17H7v-7h2v7zm4 0h-2V7h2v10zm4 0h-2v-4h2v4z\"/>\n",
              "    </g>\n",
              "</svg>\n",
              "  </button>\n",
              "\n",
              "<style>\n",
              "  .colab-df-quickchart {\n",
              "      --bg-color: #E8F0FE;\n",
              "      --fill-color: #1967D2;\n",
              "      --hover-bg-color: #E2EBFA;\n",
              "      --hover-fill-color: #174EA6;\n",
              "      --disabled-fill-color: #AAA;\n",
              "      --disabled-bg-color: #DDD;\n",
              "  }\n",
              "\n",
              "  [theme=dark] .colab-df-quickchart {\n",
              "      --bg-color: #3B4455;\n",
              "      --fill-color: #D2E3FC;\n",
              "      --hover-bg-color: #434B5C;\n",
              "      --hover-fill-color: #FFFFFF;\n",
              "      --disabled-bg-color: #3B4455;\n",
              "      --disabled-fill-color: #666;\n",
              "  }\n",
              "\n",
              "  .colab-df-quickchart {\n",
              "    background-color: var(--bg-color);\n",
              "    border: none;\n",
              "    border-radius: 50%;\n",
              "    cursor: pointer;\n",
              "    display: none;\n",
              "    fill: var(--fill-color);\n",
              "    height: 32px;\n",
              "    padding: 0;\n",
              "    width: 32px;\n",
              "  }\n",
              "\n",
              "  .colab-df-quickchart:hover {\n",
              "    background-color: var(--hover-bg-color);\n",
              "    box-shadow: 0 1px 2px rgba(60, 64, 67, 0.3), 0 1px 3px 1px rgba(60, 64, 67, 0.15);\n",
              "    fill: var(--button-hover-fill-color);\n",
              "  }\n",
              "\n",
              "  .colab-df-quickchart-complete:disabled,\n",
              "  .colab-df-quickchart-complete:disabled:hover {\n",
              "    background-color: var(--disabled-bg-color);\n",
              "    fill: var(--disabled-fill-color);\n",
              "    box-shadow: none;\n",
              "  }\n",
              "\n",
              "  .colab-df-spinner {\n",
              "    border: 2px solid var(--fill-color);\n",
              "    border-color: transparent;\n",
              "    border-bottom-color: var(--fill-color);\n",
              "    animation:\n",
              "      spin 1s steps(1) infinite;\n",
              "  }\n",
              "\n",
              "  @keyframes spin {\n",
              "    0% {\n",
              "      border-color: transparent;\n",
              "      border-bottom-color: var(--fill-color);\n",
              "      border-left-color: var(--fill-color);\n",
              "    }\n",
              "    20% {\n",
              "      border-color: transparent;\n",
              "      border-left-color: var(--fill-color);\n",
              "      border-top-color: var(--fill-color);\n",
              "    }\n",
              "    30% {\n",
              "      border-color: transparent;\n",
              "      border-left-color: var(--fill-color);\n",
              "      border-top-color: var(--fill-color);\n",
              "      border-right-color: var(--fill-color);\n",
              "    }\n",
              "    40% {\n",
              "      border-color: transparent;\n",
              "      border-right-color: var(--fill-color);\n",
              "      border-top-color: var(--fill-color);\n",
              "    }\n",
              "    60% {\n",
              "      border-color: transparent;\n",
              "      border-right-color: var(--fill-color);\n",
              "    }\n",
              "    80% {\n",
              "      border-color: transparent;\n",
              "      border-right-color: var(--fill-color);\n",
              "      border-bottom-color: var(--fill-color);\n",
              "    }\n",
              "    90% {\n",
              "      border-color: transparent;\n",
              "      border-bottom-color: var(--fill-color);\n",
              "    }\n",
              "  }\n",
              "</style>\n",
              "\n",
              "  <script>\n",
              "    async function quickchart(key) {\n",
              "      const quickchartButtonEl =\n",
              "        document.querySelector('#' + key + ' button');\n",
              "      quickchartButtonEl.disabled = true;  // To prevent multiple clicks.\n",
              "      quickchartButtonEl.classList.add('colab-df-spinner');\n",
              "      try {\n",
              "        const charts = await google.colab.kernel.invokeFunction(\n",
              "            'suggestCharts', [key], {});\n",
              "      } catch (error) {\n",
              "        console.error('Error during call to suggestCharts:', error);\n",
              "      }\n",
              "      quickchartButtonEl.classList.remove('colab-df-spinner');\n",
              "      quickchartButtonEl.classList.add('colab-df-quickchart-complete');\n",
              "    }\n",
              "    (() => {\n",
              "      let quickchartButtonEl =\n",
              "        document.querySelector('#df-f37d081a-8dc1-4499-8005-cd1035dfcf84 button');\n",
              "      quickchartButtonEl.style.display =\n",
              "        google.colab.kernel.accessAllowed ? 'block' : 'none';\n",
              "    })();\n",
              "  </script>\n",
              "</div>\n",
              "    </div>\n",
              "  </div>\n"
            ],
            "text/plain": [
              "                                           question  \\\n",
              "0                 چند نفر به این فیلم رای داده اند؟   \n",
              "1                        فیلم ساوالان چه ژانری است؟   \n",
              "2  فیلم تمرین برای اجرا بازیگران آن چه کسانی هستند؟   \n",
              "3                         فیلم شکلاتی چه ژانری است؟   \n",
              "4                   چه جوری امتیاز فیلم شب زده است؟   \n",
              "\n",
              "                                            contexts  \\\n",
              "0  ['combined_info: Title:  سوم شخص غایب. Overvie...   \n",
              "1  ['فیلم شکلاتی درباره این فیلم درباره کارخانه ش...   \n",
              "2  ['فیلم شکلاتی درباره این فیلم درباره کارخانه ش...   \n",
              "3  ['فیلم شکلاتی درباره این فیلم درباره کارخانه ش...   \n",
              "4  ['Name: رویای نیمه شب پاییز\\nActors: [' امیر ج...   \n",
              "\n",
              "                                       ground_truths  \\\n",
              "0                [149 نفر به این فیلم رای داده اند.]   \n",
              "1          [ژانر فیلم ساوالان اکشن و ماجراجویی است.]   \n",
              "2  [بازیگران فیلم تمرین برای اجرا عبارتند از: میک...   \n",
              "3            [ژانر فیلم شکلاتی خانوادگی و کمدی است.]   \n",
              "4                     [امتیاز فیلم شب زده 0.73 است.]   \n",
              "\n",
              "                               answer  context_precision  context_recall  \\\n",
              "0  2465 نفر به این فیلم رای داده اند.                0.0             0.0   \n",
              "1       فیلم شکلاتی یک فیلم کمدی است.                1.0             0.0   \n",
              "2                        من نمی‌دانم.                0.0             0.0   \n",
              "3       فیلم شکلاتی یک فیلم کمدی است.                1.0             1.0   \n",
              "4        امتیاز فیلم شب زده 0.84 است.                0.0             1.0   \n",
              "\n",
              "   faithfulness  answer_relevancy  \n",
              "0           0.0          0.837088  \n",
              "1           1.0          0.875436  \n",
              "2           0.0          0.000000  \n",
              "3           1.0          0.907777  \n",
              "4           1.0          0.891968  "
            ]
          },
          "execution_count": 182,
          "metadata": {},
          "output_type": "execute_result"
        }
      ],
      "source": [
        "df.head()"
      ]
    },
    {
      "cell_type": "code",
      "execution_count": 194,
      "metadata": {
        "id": "M8gGCPncUIBx"
      },
      "outputs": [],
      "source": [
        "df.to_csv('ragas_result.csv')"
      ]
    },
    {
      "cell_type": "code",
      "execution_count": 201,
      "metadata": {
        "colab": {
          "base_uri": "https://localhost:8080/"
        },
        "id": "vCRtQn9XpHGO",
        "outputId": "aca01ab3-b4b6-4d0c-b033-d1eb835d045e"
      },
      "outputs": [
        {
          "name": "stdout",
          "output_type": "stream",
          "text": [
            "absl-py==1.4.0\n",
            "aiohttp==3.9.1\n",
            "aiosignal==1.3.1\n",
            "alabaster==0.7.16\n",
            "albumentations==1.3.1\n",
            "altair==4.2.2\n",
            "anyio==3.7.1\n",
            "appdirs==1.4.4\n",
            "argon2-cffi==23.1.0\n",
            "argon2-cffi-bindings==21.2.0\n",
            "array-record==0.5.0\n",
            "arviz==0.15.1\n",
            "asgiref==3.7.2\n",
            "astropy==5.3.4\n",
            "astunparse==1.6.3\n",
            "async-timeout==4.0.3\n",
            "atpublic==4.0\n",
            "attrs==23.2.0\n",
            "audioread==3.0.1\n",
            "Authlib==1.3.0\n",
            "autograd==1.6.2\n",
            "Babel==2.14.0\n",
            "backcall==0.2.0\n",
            "backoff==2.2.1\n",
            "bcrypt==4.1.2\n",
            "beautifulsoup4==4.11.2\n",
            "bidict==0.22.1\n",
            "bigframes==0.19.2\n",
            "bleach==6.1.0\n",
            "blinker==1.4\n",
            "blis==0.7.11\n",
            "blosc2==2.0.0\n",
            "bokeh==3.3.4\n",
            "bqplot==0.12.42\n",
            "branca==0.7.0\n",
            "build==1.0.3\n",
            "CacheControl==0.13.1\n",
            "cachetools==5.3.2\n",
            "catalogue==2.0.10\n",
            "certifi==2023.11.17\n",
            "cffi==1.16.0\n",
            "chardet==5.2.0\n",
            "charset-normalizer==3.3.2\n",
            "chex==0.1.7\n",
            "chroma-hnswlib==0.7.3\n",
            "chromadb==0.4.22\n",
            "click==8.1.7\n",
            "click-plugins==1.1.1\n",
            "cligj==0.7.2\n",
            "cloudpickle==2.2.1\n",
            "cmake==3.27.9\n",
            "cmdstanpy==1.2.0\n",
            "colorcet==3.0.1\n",
            "coloredlogs==15.0.1\n",
            "colorlover==0.3.0\n",
            "colour==0.1.5\n",
            "community==1.0.0b1\n",
            "confection==0.1.4\n",
            "cons==0.4.6\n",
            "contextlib2==21.6.0\n",
            "contourpy==1.2.0\n",
            "cryptography==42.0.1\n",
            "cufflinks==0.17.3\n",
            "cupy-cuda12x==12.2.0\n",
            "cvxopt==1.3.2\n",
            "cvxpy==1.3.3\n",
            "cycler==0.12.1\n",
            "cymem==2.0.8\n",
            "Cython==3.0.8\n",
            "dask==2023.8.1\n",
            "dataclasses-json==0.6.3\n",
            "datascience==0.17.6\n",
            "datasets==2.16.1\n",
            "db-dtypes==1.2.0\n",
            "dbus-python==1.2.18\n",
            "debugpy==1.6.6\n",
            "decorator==4.4.2\n",
            "defusedxml==0.7.1\n",
            "Deprecated==1.2.14\n",
            "dill==0.3.7\n",
            "diskcache==5.6.3\n",
            "distributed==2023.8.1\n",
            "distro==1.7.0\n",
            "dlib==19.24.2\n",
            "dm-tree==0.1.8\n",
            "docutils==0.18.1\n",
            "dopamine-rl==4.0.6\n",
            "duckdb==0.9.2\n",
            "earthengine-api==0.1.386\n",
            "easydict==1.11\n",
            "ecos==2.0.12\n",
            "editdistance==0.6.2\n",
            "eerepr==0.0.4\n",
            "en-core-web-sm @ https://github.com/explosion/spacy-models/releases/download/en_core_web_sm-3.6.0/en_core_web_sm-3.6.0-py3-none-any.whl#sha256=83276fc78a70045627144786b52e1f2728ad5e29e5e43916ec37ea9c26a11212\n",
            "entrypoints==0.4\n",
            "et-xmlfile==1.1.0\n",
            "etils==1.6.0\n",
            "etuples==0.3.9\n",
            "exceptiongroup==1.2.0\n",
            "faiss-cpu==1.7.4\n",
            "fastai==2.7.13\n",
            "fastapi==0.109.0\n",
            "fastcore==1.5.29\n",
            "fastdownload==0.0.7\n",
            "fastjsonschema==2.19.1\n",
            "fastprogress==1.0.3\n",
            "fastrlock==0.8.2\n",
            "filelock==3.13.1\n",
            "fiona==1.9.5\n",
            "firebase-admin==5.3.0\n",
            "Flask==2.2.5\n",
            "flatbuffers==23.5.26\n",
            "flax==0.8.0\n",
            "folium==0.14.0\n",
            "fonttools==4.47.2\n",
            "frozendict==2.4.0\n",
            "frozenlist==1.4.1\n",
            "fsspec==2023.6.0\n",
            "future==0.18.3\n",
            "gast==0.5.4\n",
            "gcsfs==2023.6.0\n",
            "GDAL==3.6.4\n",
            "gdown==4.7.3\n",
            "geemap==0.30.4\n",
            "gensim==4.3.2\n",
            "geocoder==1.38.1\n",
            "geographiclib==2.0\n",
            "geopandas==0.13.2\n",
            "geopy==2.3.0\n",
            "gin-config==0.5.0\n",
            "glob2==0.7\n",
            "google==2.0.3\n",
            "google-ai-generativelanguage==0.4.0\n",
            "google-api-core==2.11.1\n",
            "google-api-python-client==2.84.0\n",
            "google-auth==2.17.3\n",
            "google-auth-httplib2==0.1.1\n",
            "google-auth-oauthlib==1.2.0\n",
            "google-cloud-aiplatform==1.39.0\n",
            "google-cloud-bigquery==3.12.0\n",
            "google-cloud-bigquery-connection==1.12.1\n",
            "google-cloud-bigquery-storage==2.24.0\n",
            "google-cloud-core==2.3.3\n",
            "google-cloud-datastore==2.15.2\n",
            "google-cloud-firestore==2.11.1\n",
            "google-cloud-functions==1.13.3\n",
            "google-cloud-iam==2.13.0\n",
            "google-cloud-language==2.9.1\n",
            "google-cloud-resource-manager==1.11.0\n",
            "google-cloud-storage==2.8.0\n",
            "google-cloud-translate==3.11.3\n",
            "google-colab @ file:///colabtools/dist/google-colab-1.0.0.tar.gz#sha256=cc4656153cd78d80c0a19379ced5d635dbb4646a8bdeb9e7be03801cfe4c65f6\n",
            "google-crc32c==1.5.0\n",
            "google-generativeai==0.3.2\n",
            "google-pasta==0.2.0\n",
            "google-resumable-media==2.7.0\n",
            "googleapis-common-protos==1.62.0\n",
            "googledrivedownloader==0.4\n",
            "graphviz==0.20.1\n",
            "greenlet==3.0.3\n",
            "grpc-google-iam-v1==0.13.0\n",
            "grpcio==1.60.0\n",
            "grpcio-status==1.48.2\n",
            "grpcio-tools==1.60.0\n",
            "gspread==3.4.2\n",
            "gspread-dataframe==3.3.1\n",
            "gym==0.25.2\n",
            "gym-notices==0.0.8\n",
            "h11==0.14.0\n",
            "h2==4.1.0\n",
            "h5netcdf==1.3.0\n",
            "h5py==3.9.0\n",
            "holidays==0.41\n",
            "holoviews==1.17.1\n",
            "hpack==4.0.0\n",
            "html5lib==1.1\n",
            "httpcore==1.0.2\n",
            "httpimport==1.3.1\n",
            "httplib2==0.22.0\n",
            "httptools==0.6.1\n",
            "httpx==0.26.0\n",
            "huggingface-hub==0.20.3\n",
            "humanfriendly==10.0\n",
            "humanize==4.7.0\n",
            "hyperframe==6.0.1\n",
            "hyperopt==0.2.7\n",
            "ibis-framework==7.1.0\n",
            "idna==3.6\n",
            "imageio==2.31.6\n",
            "imageio-ffmpeg==0.4.9\n",
            "imagesize==1.4.1\n",
            "imbalanced-learn==0.10.1\n",
            "imgaug==0.4.0\n",
            "importlib-metadata==6.11.0\n",
            "importlib-resources==6.1.1\n",
            "imutils==0.5.4\n",
            "inflect==7.0.0\n",
            "iniconfig==2.0.0\n",
            "install==1.3.5\n",
            "intel-openmp==2023.2.3\n",
            "ipyevents==2.0.2\n",
            "ipyfilechooser==0.6.0\n",
            "ipykernel==5.5.6\n",
            "ipyleaflet==0.18.2\n",
            "ipython==7.34.0\n",
            "ipython-genutils==0.2.0\n",
            "ipython-sql==0.5.0\n",
            "ipytree==0.2.2\n",
            "ipywidgets==7.7.1\n",
            "itsdangerous==2.1.2\n",
            "jax==0.4.23\n",
            "jaxlib @ https://storage.googleapis.com/jax-releases/cuda12/jaxlib-0.4.23+cuda12.cudnn89-cp310-cp310-manylinux2014_x86_64.whl#sha256=8e42000672599e7ec0ea7f551acfcc95dcdd0e22b05a1d1f12f97b56a9fce4a8\n",
            "jeepney==0.7.1\n",
            "jieba==0.42.1\n",
            "Jinja2==3.1.3\n",
            "joblib==1.3.2\n",
            "jsonpatch==1.33\n",
            "jsonpickle==3.0.2\n",
            "jsonpointer==2.4\n",
            "jsonschema==4.19.2\n",
            "jsonschema-specifications==2023.12.1\n",
            "jupyter-client==6.1.12\n",
            "jupyter-console==6.1.0\n",
            "jupyter-server==1.24.0\n",
            "jupyter_core==5.7.1\n",
            "jupyterlab-widgets==3.0.9\n",
            "jupyterlab_pygments==0.3.0\n",
            "kaggle==1.5.16\n",
            "kagglehub==0.1.6\n",
            "keras==2.15.0\n",
            "keyring==23.5.0\n",
            "kiwisolver==1.4.5\n",
            "kubernetes==29.0.0\n",
            "langchain==0.1.4\n",
            "langchain-community==0.0.16\n",
            "langchain-core==0.1.17\n",
            "langchain-openai==0.0.5\n",
            "langcodes==3.3.0\n",
            "langsmith==0.0.85\n",
            "lark==1.1.9\n",
            "lark-parser==0.12.0\n",
            "launchpadlib==1.10.16\n",
            "lazr.restfulclient==0.14.4\n",
            "lazr.uri==1.0.6\n",
            "lazy_loader==0.3\n",
            "libclang==16.0.6\n",
            "librosa==0.10.1\n",
            "lida==0.0.10\n",
            "lightgbm==4.1.0\n",
            "linkify-it-py==2.0.2\n",
            "llmx==0.0.15a0\n",
            "llvmlite==0.41.1\n",
            "locket==1.0.0\n",
            "logical-unification==0.4.6\n",
            "lxml==4.9.4\n",
            "malloy==2023.1067\n",
            "Markdown==3.5.2\n",
            "markdown-it-py==3.0.0\n",
            "MarkupSafe==2.1.4\n",
            "marshmallow==3.20.2\n",
            "matplotlib==3.7.1\n",
            "matplotlib-inline==0.1.6\n",
            "matplotlib-venn==0.11.9\n",
            "mdit-py-plugins==0.4.0\n",
            "mdurl==0.1.2\n",
            "miniKanren==1.0.3\n",
            "missingno==0.5.2\n",
            "mistune==0.8.4\n",
            "mizani==0.9.3\n",
            "mkl==2023.2.0\n",
            "ml-dtypes==0.2.0\n",
            "mlxtend==0.22.0\n",
            "mmh3==4.1.0\n",
            "monotonic==1.6\n",
            "more-itertools==10.1.0\n",
            "moviepy==1.0.3\n",
            "mpmath==1.3.0\n",
            "msgpack==1.0.7\n",
            "multidict==6.0.4\n",
            "multipledispatch==1.0.0\n",
            "multiprocess==0.70.15\n",
            "multitasking==0.0.11\n",
            "murmurhash==1.0.10\n",
            "music21==9.1.0\n",
            "mypy-extensions==1.0.0\n",
            "natsort==8.4.0\n",
            "nbclassic==1.0.0\n",
            "nbclient==0.9.0\n",
            "nbconvert==6.5.4\n",
            "nbformat==5.9.2\n",
            "nest-asyncio==1.6.0\n",
            "networkx==3.2.1\n",
            "nibabel==4.0.2\n",
            "nltk==3.8.1\n",
            "notebook==6.5.5\n",
            "notebook_shim==0.2.3\n",
            "numba==0.58.1\n",
            "numexpr==2.9.0\n",
            "numpy==1.23.5\n",
            "oauth2client==4.1.3\n",
            "oauthlib==3.2.2\n",
            "onnxruntime==1.16.3\n",
            "openai==1.10.0\n",
            "opencv-contrib-python==4.8.0.76\n",
            "opencv-python==4.8.0.76\n",
            "opencv-python-headless==4.9.0.80\n",
            "openpyxl==3.1.2\n",
            "opentelemetry-api==1.22.0\n",
            "opentelemetry-exporter-otlp-proto-common==1.22.0\n",
            "opentelemetry-exporter-otlp-proto-grpc==1.22.0\n",
            "opentelemetry-instrumentation==0.43b0\n",
            "opentelemetry-instrumentation-asgi==0.43b0\n",
            "opentelemetry-instrumentation-fastapi==0.43b0\n",
            "opentelemetry-proto==1.22.0\n",
            "opentelemetry-sdk==1.22.0\n",
            "opentelemetry-semantic-conventions==0.43b0\n",
            "opentelemetry-util-http==0.43b0\n",
            "opt-einsum==3.3.0\n",
            "optax==0.1.8\n",
            "orbax-checkpoint==0.4.4\n",
            "osqp==0.6.2.post8\n",
            "overrides==7.7.0\n",
            "packaging==23.2\n",
            "pandas==1.5.3\n",
            "pandas-datareader==0.10.0\n",
            "pandas-gbq==0.19.2\n",
            "pandas-stubs==1.5.3.230304\n",
            "pandocfilters==1.5.1\n",
            "panel==1.3.8\n",
            "param==2.0.2\n",
            "parso==0.8.3\n",
            "parsy==2.1\n",
            "partd==1.4.1\n",
            "pathlib==1.0.1\n",
            "pathlib_abc==0.1.1\n",
            "pathy==0.11.0\n",
            "patsy==0.5.6\n",
            "peewee==3.17.0\n",
            "pexpect==4.9.0\n",
            "pickleshare==0.7.5\n",
            "Pillow==9.4.0\n",
            "pins==0.8.4\n",
            "pip-tools==6.13.0\n",
            "platformdirs==4.1.0\n",
            "plotly==5.15.0\n",
            "plotnine==0.12.4\n",
            "pluggy==1.4.0\n",
            "polars==0.20.2\n",
            "pooch==1.8.0\n",
            "portalocker==2.8.2\n",
            "portpicker==1.5.2\n",
            "posthog==3.3.4\n",
            "prefetch-generator==1.0.3\n",
            "preshed==3.0.9\n",
            "prettytable==3.9.0\n",
            "proglog==0.1.10\n",
            "progressbar2==4.2.0\n",
            "prometheus-client==0.19.0\n",
            "promise==2.3\n",
            "prompt-toolkit==3.0.43\n",
            "prophet==1.1.5\n",
            "proto-plus==1.23.0\n",
            "protobuf==4.25.2\n",
            "psutil==5.9.5\n",
            "psycopg2==2.9.9\n",
            "ptyprocess==0.7.0\n",
            "pulsar-client==3.4.0\n",
            "py-cpuinfo==9.0.0\n",
            "py4j==0.10.9.7\n",
            "pyarrow==10.0.1\n",
            "pyarrow-hotfix==0.6\n",
            "pyasn1==0.5.1\n",
            "pyasn1-modules==0.3.0\n",
            "pycocotools==2.0.7\n",
            "pycparser==2.21\n",
            "pyct==0.5.0\n",
            "pydantic==1.10.14\n",
            "pydata-google-auth==1.8.2\n",
            "pydot==1.4.2\n",
            "pydot-ng==2.0.0\n",
            "pydotplus==2.0.2\n",
            "PyDrive==1.3.1\n",
            "PyDrive2==1.6.3\n",
            "pyerfa==2.0.1.1\n",
            "pygame==2.5.2\n",
            "Pygments==2.16.1\n",
            "PyGObject==3.42.1\n",
            "PyJWT==2.3.0\n",
            "pymc==5.7.2\n",
            "pymystem3==0.2.0\n",
            "PyOpenGL==3.1.7\n",
            "pyOpenSSL==24.0.0\n",
            "pyparsing==3.1.1\n",
            "pypdf==4.0.1\n",
            "PyPDF2==3.0.1\n",
            "pyperclip==1.8.2\n",
            "PyPika==0.48.9\n",
            "pyproj==3.6.1\n",
            "pyproject_hooks==1.0.0\n",
            "pysbd==0.3.4\n",
            "pyshp==2.3.1\n",
            "PySocks==1.7.1\n",
            "pytensor==2.14.2\n",
            "pytest==7.4.4\n",
            "python-apt==0.0.0\n",
            "python-box==7.1.1\n",
            "python-dateutil==2.8.2\n",
            "python-dotenv==1.0.1\n",
            "python-louvain==0.16\n",
            "python-slugify==8.0.2\n",
            "python-utils==3.8.2\n",
            "pytz==2023.3.post1\n",
            "pyviz_comms==3.0.1\n",
            "PyWavelets==1.5.0\n",
            "PyYAML==6.0.1\n",
            "pyzmq==23.2.1\n",
            "qdldl==0.1.7.post0\n",
            "qdrant-client==1.7.1\n",
            "qudida==0.0.4\n",
            "ragas==0.0.22\n",
            "ratelim==0.1.6\n",
            "referencing==0.32.1\n",
            "regex==2023.6.3\n",
            "requests==2.31.0\n",
            "requests-oauthlib==1.3.1\n",
            "requirements-parser==0.5.0\n",
            "rich==13.7.0\n",
            "rpds-py==0.17.1\n",
            "rpy2==3.4.2\n",
            "rsa==4.9\n",
            "safetensors==0.4.2\n",
            "scikit-image==0.19.3\n",
            "scikit-learn==1.2.2\n",
            "scipy==1.11.4\n",
            "scooby==0.9.2\n",
            "scs==3.2.4.post1\n",
            "seaborn==0.13.1\n",
            "SecretStorage==3.3.1\n",
            "Send2Trash==1.8.2\n",
            "sentencepiece==0.1.99\n",
            "shapely==2.0.2\n",
            "six==1.16.0\n",
            "sklearn-pandas==2.2.0\n",
            "smart-open==6.4.0\n",
            "sniffio==1.3.0\n",
            "snowballstemmer==2.2.0\n",
            "sortedcontainers==2.4.0\n",
            "soundfile==0.12.1\n",
            "soupsieve==2.5\n",
            "soxr==0.3.7\n",
            "spacy==3.6.1\n",
            "spacy-legacy==3.0.12\n",
            "spacy-loggers==1.0.5\n",
            "Sphinx==5.0.2\n",
            "sphinxcontrib-applehelp==1.0.8\n",
            "sphinxcontrib-devhelp==1.0.6\n",
            "sphinxcontrib-htmlhelp==2.0.5\n",
            "sphinxcontrib-jsmath==1.0.1\n",
            "sphinxcontrib-qthelp==1.0.7\n",
            "sphinxcontrib-serializinghtml==1.1.10\n",
            "SQLAlchemy==2.0.24\n",
            "sqlglot==19.9.0\n",
            "sqlparse==0.4.4\n",
            "srsly==2.4.8\n",
            "stanio==0.3.0\n",
            "starlette==0.35.1\n",
            "statsmodels==0.14.1\n",
            "sympy==1.12\n",
            "tables==3.8.0\n",
            "tabulate==0.9.0\n",
            "tbb==2021.11.0\n",
            "tblib==3.0.0\n",
            "tenacity==8.2.3\n",
            "tensorboard==2.15.1\n",
            "tensorboard-data-server==0.7.2\n",
            "tensorflow==2.15.0\n",
            "tensorflow-datasets==4.9.4\n",
            "tensorflow-estimator==2.15.0\n",
            "tensorflow-gcs-config==2.15.0\n",
            "tensorflow-hub==0.16.0\n",
            "tensorflow-io-gcs-filesystem==0.35.0\n",
            "tensorflow-metadata==1.14.0\n",
            "tensorflow-probability==0.22.0\n",
            "tensorstore==0.1.45\n",
            "termcolor==2.4.0\n",
            "terminado==0.18.0\n",
            "text-unidecode==1.3\n",
            "textblob==0.17.1\n",
            "tf-slim==1.1.0\n",
            "thinc==8.1.12\n",
            "threadpoolctl==3.2.0\n",
            "tifffile==2023.12.9\n",
            "tiktoken==0.5.2\n",
            "tinycss2==1.2.1\n",
            "tokenizers==0.15.1\n",
            "toml==0.10.2\n",
            "tomli==2.0.1\n",
            "toolz==0.12.1\n",
            "torch @ https://download.pytorch.org/whl/cu121/torch-2.1.0%2Bcu121-cp310-cp310-linux_x86_64.whl#sha256=0d4e8c52a1fcf5ed6cfc256d9a370fcf4360958fc79d0b08a51d55e70914df46\n",
            "torchaudio @ https://download.pytorch.org/whl/cu121/torchaudio-2.1.0%2Bcu121-cp310-cp310-linux_x86_64.whl#sha256=676bda4042734eda99bc59b2d7f761f345d3cde0cad492ad34e3aefde688c6d8\n",
            "torchdata==0.7.0\n",
            "torchsummary==1.5.1\n",
            "torchtext==0.16.0\n",
            "torchvision @ https://download.pytorch.org/whl/cu121/torchvision-0.16.0%2Bcu121-cp310-cp310-linux_x86_64.whl#sha256=e76e78d0ad43636c9884b3084ffaea8a8b61f21129fbfa456a5fe734f0affea9\n",
            "tornado==6.3.2\n",
            "tqdm==4.66.1\n",
            "traitlets==5.7.1\n",
            "traittypes==0.2.1\n",
            "transformers==4.35.2\n",
            "triton==2.1.0\n",
            "tweepy==4.14.0\n",
            "typer==0.9.0\n",
            "types-pytz==2023.3.1.1\n",
            "types-setuptools==69.0.0.20240125\n",
            "typing-inspect==0.9.0\n",
            "typing_extensions==4.9.0\n",
            "tzlocal==5.2\n",
            "uc-micro-py==1.0.2\n",
            "uritemplate==4.1.1\n",
            "urllib3==2.0.7\n",
            "uvicorn==0.27.0.post1\n",
            "uvloop==0.19.0\n",
            "validators==0.22.0\n",
            "vega-datasets==0.9.0\n",
            "wadllib==1.3.6\n",
            "wasabi==1.1.2\n",
            "watchfiles==0.21.0\n",
            "wcwidth==0.2.13\n",
            "weaviate-client==3.26.2\n",
            "webcolors==1.13\n",
            "webencodings==0.5.1\n",
            "websocket-client==1.7.0\n",
            "websockets==12.0\n",
            "Werkzeug==3.0.1\n",
            "widgetsnbextension==3.6.6\n",
            "wordcloud==1.9.3\n",
            "wrapt==1.14.1\n",
            "xarray==2023.7.0\n",
            "xarray-einstats==0.7.0\n",
            "xgboost==2.0.3\n",
            "xlrd==2.0.1\n",
            "xxhash==3.4.1\n",
            "xyzservices==2023.10.1\n",
            "yarl==1.9.4\n",
            "yellowbrick==1.5\n",
            "yfinance==0.2.36\n",
            "zict==3.0.0\n",
            "zipp==3.17.0\n"
          ]
        }
      ],
      "source": [
        "!pip freeze"
      ]
    },
    {
      "cell_type": "code",
      "execution_count": null,
      "metadata": {
        "id": "N_5dLsbk6oC0"
      },
      "outputs": [],
      "source": []
    }
  ],
  "metadata": {
    "colab": {
      "provenance": []
    },
    "kernelspec": {
      "display_name": "Python 3",
      "name": "python3"
    },
    "language_info": {
      "name": "python"
    }
  },
  "nbformat": 4,
  "nbformat_minor": 0
}
